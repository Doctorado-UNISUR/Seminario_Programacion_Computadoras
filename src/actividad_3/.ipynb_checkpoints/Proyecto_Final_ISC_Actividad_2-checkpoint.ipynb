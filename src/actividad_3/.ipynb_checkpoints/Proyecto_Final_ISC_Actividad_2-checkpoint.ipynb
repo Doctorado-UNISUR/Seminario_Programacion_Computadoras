{
 "cells": [
  {
   "cell_type": "markdown",
   "id": "f47f92dc",
   "metadata": {},
   "source": [
    "# Proyecto de evaluación Actividad 2"
   ]
  },
  {
   "cell_type": "markdown",
   "id": "a9e42900",
   "metadata": {},
   "source": [
    "**Estudiante**: Juan Carlos González Ibarra\n",
    "\n",
    "**Correo**: jcarlos0284@gmail.com\n",
    "\n",
    "**Fecha**: 17 de mayo, 2024\n",
    "\n",
    "**Contenido**\n",
    "- Tema\n",
    "- Planteamiento del problema\n",
    "- Objetivos\n",
    "- Metodología de Desarrollo\n",
    "- Extracción de Datos\n",
    "- Fuentes de extracción de datos \n",
    "- Que es la extracción de datos \n",
    "- Extracción de datos con Python\n",
    "- Data Clean\n",
    "- Almacenamiento base de datos\n",
    "- Algoritmos de Aprendizaje Supervisado y No Supervisado\n",
    "- Modelado de Datos\n",
    "- Análisis exploratorio de Datos (AED)\n",
    "- Resultados de AED\n",
    "- Visualización de datos\n",
    "- Conclusión\n",
    "\n",
    "---"
   ]
  },
  {
   "cell_type": "markdown",
   "id": "42534e77",
   "metadata": {},
   "source": [
    "## 1. Tema\n",
    "### 1.1 Planteamiento del problema\n",
    "La industria de los videojuegos ha experimentado un crecimiento significativo, impulsado por la popularidad de los videojuegos como formas de entretenimiento digital y el aumento en el número de jugadores. Sin embargo, este crecimiento presenta desafíos importantes. La constante evolución de los videojuegos, impulsada por avances tecnológicos y cambios en los hábitos de consumo, ha creado incertidumbre sobre cómo anticipar y adaptarse a las demandas cambiantes del mercado.\n",
    "Además, el lapso de la pandemia y las medidas de confinamiento incremento esta tendencia, con un aumento notable en el número de jugadores que utilizan plataformas como Nintendo, Xbox y Playstation. Este cambio en el comportamiento de los consumidores ha llevado a un aumento del 6,3% en el número de usuarios de consolas digitales en Estados Unidos. La proliferación de smartphones y el desarrollo de tecnologías como la realidad virtual han ampliado aún más el acceso a los videojuegos, atrayendo a una nueva generación de jugadores.\n",
    "En este contexto de intensa competitividad y demanda creciente de innovación, las empresas del sector enfrentan el desafío de mantenerse al día con las expectativas del público y encontrar formas innovadoras de ofrecer experiencias de juego únicas y atractivas. La idea del “metaverso” surge como una posible solución, ofreciendo un mundo virtual en el que los usuarios pueden crear y compartir sus propias experiencias. \n",
    "\n",
    "Por lo anterior, el proyecto plantea desarrollar una herramienta de predicción que pueda identificar con precisión qué estilos de videojuegos tienen el potencial de éxito.\n",
    "\n",
    "### 1.2 Objetivos\n",
    "\n",
    "•\tPlantear un método de desarrollo para la extracción, limpieza, almacenamiento y análisis de datos de videojuegos exitosos y no exitosos, considerando variables como género, plataforma de lanzamiento, reseñas de usuarios, ventas, entre otros.\n",
    "\n",
    "•\tDiseñar un modelo predictivo basado en machine learning que pueda predecir el potencial de éxito de un videojuego en función de sus características específicas.\n",
    "\n",
    "•\tEvaluar la eficacia del modelo de predicción mediante la comparación de las predicciones con el desempeño real de los videojuegos.\n",
    "\n",
    "\n",
    "\n"
   ]
  },
  {
   "cell_type": "markdown",
   "id": "87f4442d",
   "metadata": {},
   "source": [
    "## 2. Metodología de Desarrollo\n",
    "\n",
    "Para realizar el proyecto se desarrollarán módulos de código para cada uno de los puntos planteados en los objetivos para que se pueda permitir establecer las variables del tipo de Genero y/o Plataforma del Videojuego a desarrollar y poder determinar (experimentalmente) la predicción de ventas de ese videojuego tomando como referencia la variable copia de ventas del videojuego, así que, se va trabajar cada tarea de la siguiente forma:\n",
    "\n",
    "- Investigar las fuentes donde se puede obtener los datos para el proyecto.\n",
    "- Extraer los datos vía Web Scraping\n",
    "- Data Clean:\n",
    "    - Carga de Datos\n",
    "    - Preprocesar los datos.\n",
    "    - Eliminar variables irrelevantes.\n",
    "    - Imputar valores faltantes.\n",
    "    - Limpiar los nombres de los atributos que no se vayan a utilizar.\n",
    "\n",
    "- Almacenar los datos en un sistema de base de datos\n",
    "- Definición de la(s) Variable(s) Objetivo(s).\n",
    "- Generar un Modelo Predictivo Supervisado con Algoritmo de:\n",
    "\n",
    "    - Regresión: Este algoritmo puede predecir un valor continuo (como las ventas globales de un videojuego). Se trata de encontrar una relación entre las variables de entrada y la variable de salida que puede ser representada como una ecuación matemática. Los algoritmos de regresión son: regresión lineal, la regresión polinomial y la regresión de árbol de decisión.\n",
    "\n",
    "    - Clasificación: Este algoritmo puede predecir una categoría o clase (como el género de un videojuego). Se trata de encontrar una frontera de decisión que separe las diferentes clases en el espacio de las variables de entrada. Los algoritmos de clasificación son: regresión logística, los árboles de decisión, las máquinas de vectores de soporte y las redes neuronales.\n",
    "\n",
    "    - Predicción: Este algoritmo se utiliza para predecir. La diferencia radica en el tipo de variable de salida que se trata de predecir.\n",
    "\n",
    "- Evaluar el modelo.\n",
    "- Implementar el modelo.\n",
    "- Realizar un Análisis Exploratorio de los Datos para entender la distribución de las variables para conseguir el objetivo del proyecto:\n",
    "\n",
    "    - Análisis de Correlación de Ventas Globales por Consola y Genero.\n",
    "    - Análisis de Ventas Globales de Videojuegos por Plataforma.\n",
    "    - Análisis de Ventas Globales por Género.\n",
    "    - Análisis de Ventas Globales por Compañía de Desarrollo.\n",
    "\n",
    "---"
   ]
  },
  {
   "cell_type": "markdown",
   "id": "7f8a453e",
   "metadata": {},
   "source": [
    "## 3. Extracción de datos.\n",
    "### 3.1 Fuentes de extracción de datos."
   ]
  },
  {
   "cell_type": "markdown",
   "id": "01325d5d",
   "metadata": {},
   "source": [
    "En este proyecto se cuenta con un conjunto de datos obtenidos a través de Web Scraping de las páginas web:\n",
    "- https://www.mobygames.com\n",
    "- https://www.kaggle.com/datasets/sidtwr/videogames-sales-dataset\n",
    "- https://www.kaggle.com/datasets/gregorut/videogamesales\n"
   ]
  },
  {
   "cell_type": "markdown",
   "id": "18c3b484",
   "metadata": {},
   "source": [
    "### 3.2 Que es la extracción de datos"
   ]
  },
  {
   "cell_type": "markdown",
   "id": "b789090d",
   "metadata": {},
   "source": [
    "La extracción de datos es un proceso crucial para cualquier organización que desee aprovechar al máximo su información para la toma de decisiones. Permite recuperar datos de diversas fuentes y transformarlos en un formato utilizable para su posterior análisis o almacenamiento. Los datos pueden provenir de bases de datos, hojas de cálculo, sitios web, archivos PDF, correos electrónicos, entre otros.\n",
    "\n",
    "La extracción de datos se puede utilizar para descubrir patrones o relaciones ocultas dentro de los datos para tomar decisiones informadas o crear modelos predictivos.\n",
    "\n",
    "La metodología de la extracción de datos implica los siguientes pasos:\n",
    "\n",
    "- Identificación de fuentes de datos: Determinar de dónde provienen los datos necesarios y qué método utilizar para cada fuente, como consultas SQL, APIs o software de web scrapping.\n",
    "\n",
    "- Establecimiento de conexiones: Establecer conexiones con las fuentes de datos seleccionadas utilizando métodos específicos según el tipo de fuente.\n",
    "\n",
    "- Consulta o recuperación de datos: Recuperar datos específicos utilizando consultas SQL, extracción de texto mediante OCR u otras técnicas según sea necesario.\n",
    "\n",
    "- Transformación y carga de datos: Transformar los datos extraídos para cumplir con el formato requerido, incluyendo la limpieza de datos, la normalización y el enriquecimiento, y guardarlos en un destino, como archivos planos o bases de datos.\n"
   ]
  },
  {
   "cell_type": "markdown",
   "id": "469f3ac6",
   "metadata": {},
   "source": [
    "Para este paso se utilizará la técnica de web scraping con el lenguaje de programación Python versión 3.\n",
    "El web scraping es una técnica utilizada para extraer datos de sitios web de manera automatizada. Permite recopilar información de páginas web de forma sistemática, convirtiendo los datos no estructurados en un formato estructurado y utilizable. \n",
    "\n",
    "Para realizar web scraping en Python, hay varias bibliotecas útiles disponibles son:\n",
    "\n",
    "- **Beautiful Soup**: Es una biblioteca Python que se utiliza para extraer datos de archivos HTML y XML. Proporciona métodos simples para navegar y buscar en el árbol de análisis, lo que la hace muy útil para la extracción de datos de páginas web.\n",
    "\n",
    "- **Requests**: Aunque no es específicamente una biblioteca de web scraping, Requests es una biblioteca HTTP para Python que permite realizar solicitudes HTTP de manera sencilla. Es muy útil para descargar el contenido HTML de una página web antes de aplicar técnicas de web scraping con Beautiful Soup.\n",
    "\n",
    "- **Selenium**: Es una herramienta poderosa para automatizar navegadores web. Puede ser útil para interactuar con páginas web que requieren JavaScript para cargar o realizar acciones dinámicas. Selenium puede controlar un navegador web y simular la interacción del usuario.\n"
   ]
  },
  {
   "cell_type": "markdown",
   "id": "1dc97c96",
   "metadata": {},
   "source": [
    "### 3.3 Extracción de datos con Python"
   ]
  },
  {
   "cell_type": "markdown",
   "id": "012336b2",
   "metadata": {},
   "source": [
    "#### 1. Para utilizar estas bibliotecas se ejecutarán los siguientes comandos para instalarlos en el entorno del lenguaje Python:"
   ]
  },
  {
   "cell_type": "code",
   "execution_count": 1,
   "id": "78feb961-dd8d-43a9-b858-bde59f9db1fa",
   "metadata": {
    "scrolled": true
   },
   "outputs": [
    {
     "name": "stdout",
     "output_type": "stream",
     "text": [
      "Requirement already satisfied: pandas in c:\\programdata\\anaconda3\\lib\\site-packages (2.0.3)\n",
      "Requirement already satisfied: python-dateutil>=2.8.2 in c:\\programdata\\anaconda3\\lib\\site-packages (from pandas) (2.8.2)\n",
      "Requirement already satisfied: pytz>=2020.1 in c:\\programdata\\anaconda3\\lib\\site-packages (from pandas) (2023.3.post1)\n",
      "Requirement already satisfied: tzdata>=2022.1 in c:\\programdata\\anaconda3\\lib\\site-packages (from pandas) (2023.3)\n",
      "Requirement already satisfied: numpy>=1.21.0 in c:\\programdata\\anaconda3\\lib\\site-packages (from pandas) (1.24.3)\n",
      "Requirement already satisfied: six>=1.5 in c:\\programdata\\anaconda3\\lib\\site-packages (from python-dateutil>=2.8.2->pandas) (1.16.0)\n"
     ]
    },
    {
     "name": "stderr",
     "output_type": "stream",
     "text": [
      "DEPRECATION: Loading egg at c:\\programdata\\anaconda3\\lib\\site-packages\\vboxapi-1.0-py3.11.egg is deprecated. pip 23.3 will enforce this behaviour change. A possible replacement is to use pip for package installation..\n"
     ]
    },
    {
     "name": "stdout",
     "output_type": "stream",
     "text": [
      "Requirement already satisfied: html5lib in c:\\users\\jc\\appdata\\roaming\\python\\python311\\site-packages (1.1)\n",
      "Requirement already satisfied: six>=1.9 in c:\\programdata\\anaconda3\\lib\\site-packages (from html5lib) (1.16.0)\n",
      "Requirement already satisfied: webencodings in c:\\programdata\\anaconda3\\lib\\site-packages (from html5lib) (0.5.1)\n"
     ]
    },
    {
     "name": "stderr",
     "output_type": "stream",
     "text": [
      "DEPRECATION: Loading egg at c:\\programdata\\anaconda3\\lib\\site-packages\\vboxapi-1.0-py3.11.egg is deprecated. pip 23.3 will enforce this behaviour change. A possible replacement is to use pip for package installation..\n"
     ]
    },
    {
     "name": "stdout",
     "output_type": "stream",
     "text": [
      "Requirement already satisfied: beautifulsoup4 in c:\\programdata\\anaconda3\\lib\\site-packages (4.12.2)\n",
      "Requirement already satisfied: soupsieve>1.2 in c:\\programdata\\anaconda3\\lib\\site-packages (from beautifulsoup4) (2.4)\n"
     ]
    },
    {
     "name": "stderr",
     "output_type": "stream",
     "text": [
      "DEPRECATION: Loading egg at c:\\programdata\\anaconda3\\lib\\site-packages\\vboxapi-1.0-py3.11.egg is deprecated. pip 23.3 will enforce this behaviour change. A possible replacement is to use pip for package installation..\n"
     ]
    },
    {
     "name": "stdout",
     "output_type": "stream",
     "text": [
      "Requirement already satisfied: requests in c:\\programdata\\anaconda3\\lib\\site-packages (2.31.0)\n",
      "Requirement already satisfied: charset-normalizer<4,>=2 in c:\\programdata\\anaconda3\\lib\\site-packages (from requests) (2.0.4)\n",
      "Requirement already satisfied: idna<4,>=2.5 in c:\\programdata\\anaconda3\\lib\\site-packages (from requests) (3.4)\n",
      "Requirement already satisfied: urllib3<3,>=1.21.1 in c:\\programdata\\anaconda3\\lib\\site-packages (from requests) (1.26.16)\n",
      "Requirement already satisfied: certifi>=2017.4.17 in c:\\programdata\\anaconda3\\lib\\site-packages (from requests) (2024.2.2)\n"
     ]
    },
    {
     "name": "stderr",
     "output_type": "stream",
     "text": [
      "DEPRECATION: Loading egg at c:\\programdata\\anaconda3\\lib\\site-packages\\vboxapi-1.0-py3.11.egg is deprecated. pip 23.3 will enforce this behaviour change. A possible replacement is to use pip for package installation..\n"
     ]
    },
    {
     "name": "stdout",
     "output_type": "stream",
     "text": [
      "Requirement already satisfied: selenium in c:\\users\\jc\\appdata\\roaming\\python\\python311\\site-packages (4.20.0)\n",
      "Requirement already satisfied: urllib3[socks]<3,>=1.26 in c:\\programdata\\anaconda3\\lib\\site-packages (from selenium) (1.26.16)\n",
      "Requirement already satisfied: trio~=0.17 in c:\\users\\jc\\appdata\\roaming\\python\\python311\\site-packages (from selenium) (0.25.0)\n",
      "Requirement already satisfied: trio-websocket~=0.9 in c:\\users\\jc\\appdata\\roaming\\python\\python311\\site-packages (from selenium) (0.11.1)\n",
      "Requirement already satisfied: certifi>=2021.10.8 in c:\\programdata\\anaconda3\\lib\\site-packages (from selenium) (2024.2.2)\n",
      "Requirement already satisfied: typing_extensions>=4.9.0 in c:\\users\\jc\\appdata\\roaming\\python\\python311\\site-packages (from selenium) (4.11.0)\n",
      "Requirement already satisfied: attrs>=23.2.0 in c:\\users\\jc\\appdata\\roaming\\python\\python311\\site-packages (from trio~=0.17->selenium) (23.2.0)\n",
      "Requirement already satisfied: sortedcontainers in c:\\programdata\\anaconda3\\lib\\site-packages (from trio~=0.17->selenium) (2.4.0)\n",
      "Requirement already satisfied: idna in c:\\programdata\\anaconda3\\lib\\site-packages (from trio~=0.17->selenium) (3.4)\n",
      "Requirement already satisfied: outcome in c:\\users\\jc\\appdata\\roaming\\python\\python311\\site-packages (from trio~=0.17->selenium) (1.3.0.post0)\n",
      "Requirement already satisfied: sniffio>=1.3.0 in c:\\users\\jc\\appdata\\roaming\\python\\python311\\site-packages (from trio~=0.17->selenium) (1.3.1)\n",
      "Requirement already satisfied: cffi>=1.14 in c:\\programdata\\anaconda3\\lib\\site-packages (from trio~=0.17->selenium) (1.15.1)\n",
      "Requirement already satisfied: wsproto>=0.14 in c:\\users\\jc\\appdata\\roaming\\python\\python311\\site-packages (from trio-websocket~=0.9->selenium) (1.2.0)\n",
      "Requirement already satisfied: PySocks!=1.5.7,<2.0,>=1.5.6 in c:\\programdata\\anaconda3\\lib\\site-packages (from urllib3[socks]<3,>=1.26->selenium) (1.7.1)\n",
      "Requirement already satisfied: pycparser in c:\\programdata\\anaconda3\\lib\\site-packages (from cffi>=1.14->trio~=0.17->selenium) (2.21)\n",
      "Requirement already satisfied: h11<1,>=0.9.0 in c:\\users\\jc\\appdata\\roaming\\python\\python311\\site-packages (from wsproto>=0.14->trio-websocket~=0.9->selenium) (0.14.0)\n"
     ]
    },
    {
     "name": "stderr",
     "output_type": "stream",
     "text": [
      "DEPRECATION: Loading egg at c:\\programdata\\anaconda3\\lib\\site-packages\\vboxapi-1.0-py3.11.egg is deprecated. pip 23.3 will enforce this behaviour change. A possible replacement is to use pip for package installation..\n"
     ]
    }
   ],
   "source": [
    "!pip install pandas\n",
    "!pip install html5lib\n",
    "!pip install beautifulsoup4\n",
    "!pip install requests\n",
    "!pip install selenium"
   ]
  },
  {
   "cell_type": "markdown",
   "id": "b2b71871",
   "metadata": {},
   "source": [
    "#### 2. Declarar las librerías "
   ]
  },
  {
   "cell_type": "code",
   "execution_count": 2,
   "id": "cef11d81-2d68-469d-92c3-8d7761431ff7",
   "metadata": {},
   "outputs": [],
   "source": [
    "from selenium import webdriver\n",
    "from bs4 import BeautifulSoup\n",
    "import pandas as pd\n",
    "import time"
   ]
  },
  {
   "cell_type": "markdown",
   "id": "a7ee5b05",
   "metadata": {},
   "source": [
    "#### 3. Se crea un dataframe para almacenar la información que se extraiga."
   ]
  },
  {
   "cell_type": "code",
   "execution_count": 3,
   "id": "f6ce0444",
   "metadata": {},
   "outputs": [],
   "source": [
    "#Crear un DataFrame vacío para almacenar los datos\n",
    "all_data = pd.DataFrame()"
   ]
  },
  {
   "cell_type": "markdown",
   "id": "602d7a60",
   "metadata": {},
   "source": [
    "#### 4. Se define el tipo de driver de web browser que se utilizara para obtener la información."
   ]
  },
  {
   "cell_type": "code",
   "execution_count": 4,
   "id": "ae2f6cb3",
   "metadata": {},
   "outputs": [],
   "source": [
    "# Especifique la ubicación del driver de Firefox\n",
    "driver = webdriver.Firefox()"
   ]
  },
  {
   "cell_type": "markdown",
   "id": "dbd0b7ad",
   "metadata": {},
   "source": [
    "#### 5. Se crea un bucle que iterara a través del rango de números de página para extraer datos del sitio web MobyGames. Para cada número de página en el rango especificado, el código construye una URL correspondiente a esa página, realiza una solicitud GET al sitio web utilizando Selenium, espera a que el JavaScript genere la tabla de datos, parsea el contenido HTML de la página utilizando BeautifulSoup, busca la tabla que contiene los datos, y luego se guarda en el DataFrame de Pandas **all_data** a partir de esta tabla. Una vez que itera a través de todas las páginas, cierra el driver de Selenium."
   ]
  },
  {
   "cell_type": "code",
   "execution_count": 5,
   "id": "f3b32133",
   "metadata": {},
   "outputs": [],
   "source": [
    "# Iterar a través de un rango de números de página\n",
    "# Supongamos que hay 10 páginas\n",
    "for i in range(1, 30):\n",
    "    # Construir la URL para la página actual\n",
    "    url = f\"https://www.mobygames.com/game/sort:moby_score/page:{i}/\"\n",
    "\n",
    "    # Hacer una petición GET al sitio web\n",
    "    driver.get(url)\n",
    "\n",
    "    # Espera que el JavaScript genere la tabla (puede que necesites ajustar el tiempo de espera)\n",
    "    time.sleep(2)\n",
    "    \n",
    "    # Parsear el contenido de la página con BeautifulSoup\n",
    "    soup = BeautifulSoup(driver.page_source, 'html.parser')\n",
    "    \n",
    "\n",
    "    # Buscar la tabla en el contenido de la página\n",
    "    table = soup.find('table')\n",
    "\n",
    "    # Crear un DataFrame de Pandas a partir de la tabla\n",
    "    df = pd.read_html(str(table))[0]\n",
    "\n",
    "    # Agregar los datos al DataFrame total\n",
    "    all_data = pd.concat([all_data, df])\n",
    "\n",
    "# Cerrar el driver de Selenium\n",
    "driver.quit()"
   ]
  },
  {
   "cell_type": "markdown",
   "id": "10c26482",
   "metadata": {},
   "source": [
    "#### 6. Visualizar los datos que contiene el Data Frame **all_data**"
   ]
  },
  {
   "cell_type": "code",
   "execution_count": 6,
   "id": "4ab772fb",
   "metadata": {},
   "outputs": [
    {
     "name": "stdout",
     "output_type": "stream",
     "text": [
      "                                                    0    1     2  \\\n",
      "0                                   Baldur's Gate III  9.5  2020   \n",
      "1                                 Super Mario Odyssey  9.5  2017   \n",
      "2                                    Persona 5: Royal  9.3  2019   \n",
      "3           The Legend of Zelda: Tears of the Kingdom  9.3  2023   \n",
      "4             The Legend of Zelda: Breath of the Wild  9.3  2017   \n",
      "..                                                ...  ...   ...   \n",
      "13                           Half-Life 2: Episode Two  8.5  2007   \n",
      "14  Dragon Quest XI S: Echoes of an Elusive Age - ...  8.5  2019   \n",
      "15                                Fight Night Round 4  8.5  2009   \n",
      "16                                   Age of Mythology  8.5  2002   \n",
      "17                     The Elder Scrolls IV: Oblivion  8.5  2006   \n",
      "\n",
      "                               3  \n",
      "0              Larian Studios NV  \n",
      "1                   Nintendo EPD  \n",
      "2                Atlus Co., Ltd.  \n",
      "3                   Nintendo EPD  \n",
      "4                   Nintendo EPD  \n",
      "..                           ...  \n",
      "13             Valve Corporation  \n",
      "14         Square Enix Co., Ltd.  \n",
      "15        Electronic Arts Canada  \n",
      "16  Ensemble Studios Corporation  \n",
      "17         Bethesda Game Studios  \n",
      "\n",
      "[522 rows x 4 columns]\n"
     ]
    }
   ],
   "source": [
    "print(all_data)"
   ]
  },
  {
   "cell_type": "markdown",
   "id": "fa8c9896",
   "metadata": {},
   "source": [
    "#### 7. Se guardan los datos que contiene el Data Frame all_data en un archivo con extensión csv llamado \"consolas.csv\""
   ]
  },
  {
   "cell_type": "code",
   "execution_count": 7,
   "id": "55714680",
   "metadata": {},
   "outputs": [],
   "source": [
    "all_data.to_csv('consolas.csv', index=False)"
   ]
  },
  {
   "cell_type": "markdown",
   "id": "657d824a",
   "metadata": {},
   "source": [
    "#### 8. Se realiza este mismo proceso con las otras páginas que están como fuentes para tener más de un banco de datos que pueda ayudar a realizar la herramienta de predicción."
   ]
  },
  {
   "cell_type": "markdown",
   "id": "6d855832",
   "metadata": {},
   "source": [
    "Se tiene como resultados los archivos csv: \n",
    "  \n",
    "- 'juegos_mas_vendidos.csv'\n",
    "- 'consolas.csv'\n",
    "- 'consolas2.csv'\n",
    "- 'moby_score.csv'\n",
    "- 'vgsales.csv'\n",
    "- 'video_games.csv\n",
    "    \n",
    "estos archivos contienen diferente información que llevara a cabo el proceso **Data Clean** para eliminar, normalizar y posterior guardar los datos con las variables necesarias para el análisis exploratorio de los datos."
   ]
  },
  {
   "cell_type": "markdown",
   "id": "b61dde97",
   "metadata": {},
   "source": [
    "## 4. Data Clean\n",
    "### 4.1 Descripción de los datos\n",
    "\n",
    "Los data sets están en formato CSV son:\n",
    "- consolas.csv\n",
    "- consolas2.csv\n",
    "- juegos_mas_vendidos.csv\n",
    "- vgsales.csv\n",
    "- video_games.csv\n",
    "\n",
    "La información que contiene los archivos CSV es la siguiente:\n",
    "\n",
    "**consolas.csv y consolas2.csv** : Contiene información de las plataformas de videojuego, juegos desarrollados, y críticas.\n",
    "\n",
    "- Atributos:\n",
    "    - Platform: Este atributo es de tipo string y describe el nombre de la consola de juegos para la cual se desarrollaron los juegos.\n",
    "    - Games_x: Este atributo es de tipo entero y representa la cantidad de juegos que se han desarrollado para la consola específica representada en la columna \"Platform\".\n",
    "    - Player Reviews: Este atributo es de tipo entero y muestra la cantidad de comentarios o críticas realizadas por los jugadores acerca de la consola.\n",
    "    - Critic Reviews: Este atributo es de tipo entero y muestra la cantidad de críticas realizadas por críticos profesionales acerca de la consola.\n",
    "    - Companies: Este atributo también es una combinación de cadena de texto e integer y muestra la cantidad de compañías de desarrollo de videojuegos que han desarrollado títulos para la consola.\n",
    "    - Years: Este atributo es una cadena de texto con datos enteros que indica el rango de años durante los cuales la consola ha estado en el mercado. Por ejemplo, un valor de \"2001 - 2020\" indicaría que la consola se lanzó en 2001 y se sigue utilizando hasta 2020.\n",
    "\n",
    "**juegos_mas_vendidos.csv, vgsales.csv y video_games.csv**: Contiene información de los juegos más vendidos por plataforma, genero, etc., y estadísticas del promedio de tiempo que pasa el jugador jugando.\n",
    "\n",
    "- Atributos: \n",
    "    - 'Titulo': tipo string El nombre del videojuego.\n",
    "    - 'Compañia de desarrollo': tipo string La empresa o estudio que desarrolló el videojuego.\n",
    "    - 'Fecha de Lanzamiento': tipo int La fecha en que el videojuego fue lanzado oficialmente al mercado.\n",
    "    - 'Genero': tipo string El tipo o categoría de juego al que pertenece el videojuego (ej. acción, aventura, estrategia, etc.).\n",
    "    - 'Plataforma': tipo string El sistema o dispositivo en el que el juego fue lanzado y puede ser jugado (ej. PlayStation, Xbox, PC, etc.).\n",
    "    - 'Multiplataforma': tipo string Un indicador de si el videojuego está disponible en más de una plataforma.\n",
    "    - 'Portatil': tipo bool Un indicador de si el videojuego está disponible en plataformas portátiles (ej. Nintendo Switch, PSP, etc.).\n",
    "    - 'Online': tipo bool Un indicador de si el videojuego tiene funcionalidad de juego en línea.\n",
    "    - 'Max Jugadores': tipo bool El número máximo de jugadores que pueden jugar el videojuego simultáneamente.\n",
    "    - 'Rating': tipo int La clasificación de edad o recomendación de edad para el videojuego (ej. E para todos, T para adolescentes, M para maduro, etc.).\n",
    "    - 'Ranking': tipo int El lugar que ocupa el videojuego en una lista ordenada, generalmente en términos de popularidad o ventas.\n",
    "    - 'Puntuacion Reseña': tipo float La calificación o puntuación promedio que los críticos de videojuegos han dado al videojuego.\n",
    "    - 'Secuela': tipo bool Un indicador de si el videojuego es una secuela de un videojuego anterior.\n",
    "    - 'Licenciado': tipo bool Un indicador de si el videojuego está basado en una licencia existente (ej. una película, una serie de televisión, un cómic, etc.).\n",
    "    - 'Ventas NA': tipo float La cantidad de copias del videojuego que se han vendido en América del Norte.\n",
    "    - 'Ventas EU': tipo float La cantidad de copias del videojuego que se han vendido en Europa.\n",
    "    - 'Ventas JP': tipo float La cantidad de copias del videojuego que se han vendido en Japón.\n",
    "    - 'Ventas Otros': tipo float La cantidad de copias del videojuego que se han vendido en otras regiones del mundo.\n",
    "    - 'Ventas Globales': tipo float La cantidad total de copias del videojuego que se han vendido en todo el mundo.\n",
    "    - 'Ventas Estimadas': tipo float Una estimación de la cantidad total de copias del videojuego que se venderán en el futuro, basada en las tendencias actuales de ventas.\n",
    "    - 'Length.All PlayStyles.Average':  tipo float Representa la duración promedio de juego teniendo en cuenta todos los estilos de juego.\n",
    "    - 'Length.All PlayStyles.Leisure':  tipo float Muestra la duración de juego para aquellos jugadores que disfrutan el juego de una manera más relajada o casual, abarcando todos los estilos de juego.\n",
    "    - 'Length.All PlayStyles.Median':  tipo float Es la mediana de la duración de juego, tomando en cuenta todos los estilos de juego.\n",
    "    - 'Length.All PlayStyles.Polled':  tipo float Número de observaciones o muestras utilizadas para calcular la duración promedio de todos los estilos de juego.\n",
    "    - 'Length.All PlayStyles.Rushed':  tipo float Refleja la duración de juego para aquellos jugadores que avanzan de manera más apresurada, considerando todos los estilos de juego.\n",
    "    - 'Length.Completionists.Average':  tipo float Es la duración promedio de juego para aquellos jugadores completistas, quienes se esfuerzan por alcanzar el 100% del juego.\n",
    "    - 'Length.Completionists.Leisure':  tipo float Muestra la duración del juego para los jugadores completistas que juegan de manera más relajada o casual.\n",
    "    - 'Length.Completionists.Median':  tipo float Es la mediana de la duración de juego para los jugadores completistas.\n",
    "    - 'Length.Completionists.Polled':  tipo float Número de observaciones o muestras utilizadas para calcular la duración promedio de los jugadores completistas.\n",
    "    - 'Length.Completionists.Rushed':  tipo float Representa la duración de juego para los jugadores completistas que avanzan a través del juego de una manera más apresurada.\n",
    "    - 'Length.Main + Extras.Average':  tipo float Muestra la duración promedio de juego cuando se juega la historia principal además de los contenidos extras.\n",
    "    - 'Length.Main + Extras.Leisure':  tipo float Duración del juego para aquellos jugadores que disfrutan la historia principal y los contenidos extras de una manera más relajada o casual.\n",
    "    - 'Length.Main + Extras.Median':  tipo float Es la mediana de la duración del juego, considerando la historia     -     - 'Length.Main + Extras.Polled':  tipo float Número de observaciones o muestras utilizadas para calcular la duración promedio del juego principal más los contenidos extras.\n",
    "    - 'Length.Main + Extras.Rushed':  tipo float Refleja la duración de juego para aquellos jugadores que avanzan de manera más apresurada a través de la historia principal y los contenidos extras.\n",
    "    - 'Length.Main Story.Average':  tipo float Muestra la duración promedio de la historia principal del juego.\n",
    "    - 'Length.Main Story.Leisure':  tipo float Representa la duración de la historia principal del juego para aquellos jugadores que la disfrutan de una manera más relajada o casual.\n",
    "    - 'Length.Main Story.Median':  tipo float Es la mediana de la duración de la historia principal del juego.\n",
    "    - 'Length.Main Story.Polled':  tipo float Número de observaciones o muestras utilizadas para calcular la duración promedio de la historia principal.\n",
    "    - 'Length.Main Story.Rushed':  tipo float Indica la duración de la historia principal del juego para aquellos jugadores que la avanzan de manera más apresurada.\n",
    "\n",
    "Diagrama\n",
    "<img src=\"img/4.png\" width=\"600\" height=\"400\">\n",
    "\n",
    "---"
   ]
  },
  {
   "cell_type": "markdown",
   "id": "4b4d696e",
   "metadata": {},
   "source": [
    "### 4.2 Carga de Datos"
   ]
  },
  {
   "cell_type": "markdown",
   "id": "397ac2a0",
   "metadata": {},
   "source": [
    "1. Instalación de módulos"
   ]
  },
  {
   "cell_type": "code",
   "execution_count": 8,
   "id": "683f0b72",
   "metadata": {},
   "outputs": [
    {
     "name": "stdout",
     "output_type": "stream",
     "text": [
      "Requirement already satisfied: pandas in c:\\programdata\\anaconda3\\lib\\site-packages (2.0.3)\n",
      "Requirement already satisfied: python-dateutil>=2.8.2 in c:\\programdata\\anaconda3\\lib\\site-packages (from pandas) (2.8.2)\n",
      "Requirement already satisfied: pytz>=2020.1 in c:\\programdata\\anaconda3\\lib\\site-packages (from pandas) (2023.3.post1)\n",
      "Requirement already satisfied: tzdata>=2022.1 in c:\\programdata\\anaconda3\\lib\\site-packages (from pandas) (2023.3)\n",
      "Requirement already satisfied: numpy>=1.21.0 in c:\\programdata\\anaconda3\\lib\\site-packages (from pandas) (1.24.3)\n",
      "Requirement already satisfied: six>=1.5 in c:\\programdata\\anaconda3\\lib\\site-packages (from python-dateutil>=2.8.2->pandas) (1.16.0)\n"
     ]
    },
    {
     "name": "stderr",
     "output_type": "stream",
     "text": [
      "DEPRECATION: Loading egg at c:\\programdata\\anaconda3\\lib\\site-packages\\vboxapi-1.0-py3.11.egg is deprecated. pip 23.3 will enforce this behaviour change. A possible replacement is to use pip for package installation..\n"
     ]
    },
    {
     "name": "stdout",
     "output_type": "stream",
     "text": [
      "Requirement already satisfied: matplotlib in c:\\programdata\\anaconda3\\lib\\site-packages (3.7.2)\n",
      "Requirement already satisfied: contourpy>=1.0.1 in c:\\programdata\\anaconda3\\lib\\site-packages (from matplotlib) (1.0.5)\n",
      "Requirement already satisfied: cycler>=0.10 in c:\\programdata\\anaconda3\\lib\\site-packages (from matplotlib) (0.11.0)\n",
      "Requirement already satisfied: fonttools>=4.22.0 in c:\\programdata\\anaconda3\\lib\\site-packages (from matplotlib) (4.25.0)\n",
      "Requirement already satisfied: kiwisolver>=1.0.1 in c:\\programdata\\anaconda3\\lib\\site-packages (from matplotlib) (1.4.4)\n",
      "Requirement already satisfied: numpy>=1.20 in c:\\programdata\\anaconda3\\lib\\site-packages (from matplotlib) (1.24.3)\n",
      "Requirement already satisfied: packaging>=20.0 in c:\\programdata\\anaconda3\\lib\\site-packages (from matplotlib) (23.1)\n",
      "Requirement already satisfied: pillow>=6.2.0 in c:\\programdata\\anaconda3\\lib\\site-packages (from matplotlib) (10.2.0)\n",
      "Requirement already satisfied: pyparsing<3.1,>=2.3.1 in c:\\programdata\\anaconda3\\lib\\site-packages (from matplotlib) (3.0.9)\n",
      "Requirement already satisfied: python-dateutil>=2.7 in c:\\programdata\\anaconda3\\lib\\site-packages (from matplotlib) (2.8.2)\n",
      "Requirement already satisfied: six>=1.5 in c:\\programdata\\anaconda3\\lib\\site-packages (from python-dateutil>=2.7->matplotlib) (1.16.0)\n"
     ]
    },
    {
     "name": "stderr",
     "output_type": "stream",
     "text": [
      "DEPRECATION: Loading egg at c:\\programdata\\anaconda3\\lib\\site-packages\\vboxapi-1.0-py3.11.egg is deprecated. pip 23.3 will enforce this behaviour change. A possible replacement is to use pip for package installation..\n"
     ]
    },
    {
     "name": "stdout",
     "output_type": "stream",
     "text": [
      "Requirement already satisfied: networkx in c:\\programdata\\anaconda3\\lib\\site-packages (3.1)\n"
     ]
    },
    {
     "name": "stderr",
     "output_type": "stream",
     "text": [
      "DEPRECATION: Loading egg at c:\\programdata\\anaconda3\\lib\\site-packages\\vboxapi-1.0-py3.11.egg is deprecated. pip 23.3 will enforce this behaviour change. A possible replacement is to use pip for package installation..\n"
     ]
    },
    {
     "name": "stdout",
     "output_type": "stream",
     "text": [
      "Requirement already satisfied: scikit-learn in c:\\users\\jc\\appdata\\roaming\\python\\python311\\site-packages (1.4.2)\n",
      "Requirement already satisfied: numpy>=1.19.5 in c:\\programdata\\anaconda3\\lib\\site-packages (from scikit-learn) (1.24.3)\n",
      "Requirement already satisfied: scipy>=1.6.0 in c:\\programdata\\anaconda3\\lib\\site-packages (from scikit-learn) (1.11.1)\n",
      "Requirement already satisfied: joblib>=1.2.0 in c:\\programdata\\anaconda3\\lib\\site-packages (from scikit-learn) (1.2.0)\n",
      "Requirement already satisfied: threadpoolctl>=2.0.0 in c:\\programdata\\anaconda3\\lib\\site-packages (from scikit-learn) (2.2.0)\n"
     ]
    },
    {
     "name": "stderr",
     "output_type": "stream",
     "text": [
      "DEPRECATION: Loading egg at c:\\programdata\\anaconda3\\lib\\site-packages\\vboxapi-1.0-py3.11.egg is deprecated. pip 23.3 will enforce this behaviour change. A possible replacement is to use pip for package installation..\n"
     ]
    },
    {
     "name": "stdout",
     "output_type": "stream",
     "text": [
      "Requirement already satisfied: sqlalchemy in c:\\programdata\\anaconda3\\lib\\site-packages (1.4.39)\n",
      "Requirement already satisfied: greenlet!=0.4.17 in c:\\programdata\\anaconda3\\lib\\site-packages (from sqlalchemy) (2.0.1)\n"
     ]
    },
    {
     "name": "stderr",
     "output_type": "stream",
     "text": [
      "DEPRECATION: Loading egg at c:\\programdata\\anaconda3\\lib\\site-packages\\vboxapi-1.0-py3.11.egg is deprecated. pip 23.3 will enforce this behaviour change. A possible replacement is to use pip for package installation..\n"
     ]
    }
   ],
   "source": [
    "# Instalación de módulos\n",
    "!pip install pandas\n",
    "!pip install matplotlib\n",
    "!pip install networkx\n",
    "!pip install -U scikit-learn\n",
    "!pip install sqlalchemy"
   ]
  },
  {
   "cell_type": "markdown",
   "id": "f104de01",
   "metadata": {},
   "source": [
    "2. Importar modulos"
   ]
  },
  {
   "cell_type": "code",
   "execution_count": 9,
   "id": "64e8deca",
   "metadata": {},
   "outputs": [],
   "source": [
    "# Importar modulos\n",
    "import pandas as pd\n",
    "import numpy as np\n",
    "import matplotlib.pyplot as plt\n",
    "from sklearn.model_selection import train_test_split\n",
    "from sklearn.preprocessing import StandardScaler\n",
    "from sklearn.linear_model import LinearRegression\n",
    "from sklearn.linear_model import LogisticRegression\n",
    "from sklearn.metrics import confusion_matrix\n",
    "import seaborn as sns\n",
    "from sklearn.metrics import accuracy_score\n",
    "from sklearn.ensemble import RandomForestClassifier\n",
    "from sklearn.preprocessing import OneHotEncoder\n",
    "from sklearn.metrics import classification_report, confusion_matrix\n",
    "from sklearn.compose import ColumnTransformer"
   ]
  },
  {
   "cell_type": "markdown",
   "id": "a70d7633",
   "metadata": {},
   "source": [
    "3. Leer los archivos CSV"
   ]
  },
  {
   "cell_type": "code",
   "execution_count": 10,
   "id": "5544a907",
   "metadata": {},
   "outputs": [],
   "source": [
    "# Leer los archivos CSV\n",
    "df_juegos_top = pd.read_csv('data/juegos_mas_vendidos.csv', encoding='utf-8')\n",
    "df_consolas = pd.read_csv('data/consolas.csv', encoding='utf-8')\n",
    "df_consolas2 = pd.read_csv('data/consolas2.csv', encoding='utf-8')\n",
    "df_vgsales = pd.read_csv('data/vgsales.csv', encoding='utf-8')\n",
    "df_video_games = pd.read_csv('data/video_games.csv', encoding='utf-8')"
   ]
  },
  {
   "cell_type": "markdown",
   "id": "c090bce2",
   "metadata": {},
   "source": [
    "### 4.3 Preprocesar los datos"
   ]
  },
  {
   "cell_type": "markdown",
   "id": "9edda746",
   "metadata": {},
   "source": [
    "#### 4.3.1 Fusionar data frames\n",
    "\n",
    "Se van a fusionar dos DataFrames (df_consolas y df_consolas2), los atributos en común son \"Platform\" que representa el nombre de la Plataforma en que se ejecuta el Videojuego."
   ]
  },
  {
   "cell_type": "code",
   "execution_count": 11,
   "id": "3853730a",
   "metadata": {},
   "outputs": [
    {
     "data": {
      "text/html": [
       "<div>\n",
       "<style scoped>\n",
       "    .dataframe tbody tr th:only-of-type {\n",
       "        vertical-align: middle;\n",
       "    }\n",
       "\n",
       "    .dataframe tbody tr th {\n",
       "        vertical-align: top;\n",
       "    }\n",
       "\n",
       "    .dataframe thead th {\n",
       "        text-align: right;\n",
       "    }\n",
       "</style>\n",
       "<table border=\"1\" class=\"dataframe\">\n",
       "  <thead>\n",
       "    <tr style=\"text-align: right;\">\n",
       "      <th></th>\n",
       "      <th>Platform</th>\n",
       "      <th>Games_x</th>\n",
       "      <th>Player Reviews</th>\n",
       "      <th>Critic Reviews</th>\n",
       "      <th>Games_y</th>\n",
       "      <th>Companies</th>\n",
       "      <th>Years</th>\n",
       "    </tr>\n",
       "  </thead>\n",
       "  <tbody>\n",
       "    <tr>\n",
       "      <th>0</th>\n",
       "      <td>Advanced Programmable Video System</td>\n",
       "      <td>55.0</td>\n",
       "      <td>3.0</td>\n",
       "      <td>1.0</td>\n",
       "      <td>NaN</td>\n",
       "      <td>NaN</td>\n",
       "      <td>NaN</td>\n",
       "    </tr>\n",
       "    <tr>\n",
       "      <th>1</th>\n",
       "      <td>3DO</td>\n",
       "      <td>254.0</td>\n",
       "      <td>16.0</td>\n",
       "      <td>1033.0</td>\n",
       "      <td>254 games</td>\n",
       "      <td>287 companies</td>\n",
       "      <td>1993 - 1996</td>\n",
       "    </tr>\n",
       "    <tr>\n",
       "      <th>2</th>\n",
       "      <td>Acorn 32-bit</td>\n",
       "      <td>160.0</td>\n",
       "      <td>0.0</td>\n",
       "      <td>41.0</td>\n",
       "      <td>160 games</td>\n",
       "      <td>120 companies</td>\n",
       "      <td>1987 - 2008</td>\n",
       "    </tr>\n",
       "    <tr>\n",
       "      <th>3</th>\n",
       "      <td>Adventure Vision</td>\n",
       "      <td>4.0</td>\n",
       "      <td>0.0</td>\n",
       "      <td>0.0</td>\n",
       "      <td>4 games</td>\n",
       "      <td>4 companies</td>\n",
       "      <td>1982 - 1982</td>\n",
       "    </tr>\n",
       "    <tr>\n",
       "      <th>4</th>\n",
       "      <td>AirConsole</td>\n",
       "      <td>4.0</td>\n",
       "      <td>0.0</td>\n",
       "      <td>0.0</td>\n",
       "      <td>4 games</td>\n",
       "      <td>9 companies</td>\n",
       "      <td>2016 - 2020</td>\n",
       "    </tr>\n",
       "  </tbody>\n",
       "</table>\n",
       "</div>"
      ],
      "text/plain": [
       "                             Platform  Games_x  Player Reviews  \\\n",
       "0  Advanced Programmable Video System     55.0             3.0   \n",
       "1                                 3DO    254.0            16.0   \n",
       "2                        Acorn 32-bit    160.0             0.0   \n",
       "3                    Adventure Vision      4.0             0.0   \n",
       "4                          AirConsole      4.0             0.0   \n",
       "\n",
       "   Critic Reviews    Games_y      Companies        Years  \n",
       "0             1.0        NaN            NaN          NaN  \n",
       "1          1033.0  254 games  287 companies  1993 - 1996  \n",
       "2            41.0  160 games  120 companies  1987 - 2008  \n",
       "3             0.0    4 games    4 companies  1982 - 1982  \n",
       "4             0.0    4 games    9 companies  2016 - 2020  "
      ]
     },
     "execution_count": 11,
     "metadata": {},
     "output_type": "execute_result"
    }
   ],
   "source": [
    "# Fusiona los DataFrames de Consolas\n",
    "df_consolas = pd.merge(df_consolas, df_consolas2, on='Platform', how='outer')\n",
    "df_consolas.head()"
   ]
  },
  {
   "cell_type": "markdown",
   "id": "089086f4",
   "metadata": {},
   "source": [
    "Se van a fusionar tres DataFrames (df_juegos, df_vgsales, df_video_games), los atributos en común son \"Título\" en df_juegos, \"Name\" en df_vgsales y \"Title\" en df_video_games que representa el nombre del videojuego."
   ]
  },
  {
   "cell_type": "code",
   "execution_count": 12,
   "id": "91efb71e",
   "metadata": {},
   "outputs": [],
   "source": [
    "# Primero, cambiamos los nombres de las columnas para que sean iguales en todos los DataFrames\n",
    "df_juegos_top.rename(columns={'Título': 'Title'}, inplace=True)\n",
    "df_vgsales.rename(columns={'Name': 'Title'}, inplace=True)"
   ]
  },
  {
   "cell_type": "code",
   "execution_count": 13,
   "id": "5617b395",
   "metadata": {},
   "outputs": [
    {
     "data": {
      "text/html": [
       "<div>\n",
       "<style scoped>\n",
       "    .dataframe tbody tr th:only-of-type {\n",
       "        vertical-align: middle;\n",
       "    }\n",
       "\n",
       "    .dataframe tbody tr th {\n",
       "        vertical-align: top;\n",
       "    }\n",
       "\n",
       "    .dataframe thead th {\n",
       "        text-align: right;\n",
       "    }\n",
       "</style>\n",
       "<table border=\"1\" class=\"dataframe\">\n",
       "  <thead>\n",
       "    <tr style=\"text-align: right;\">\n",
       "      <th></th>\n",
       "      <th>Title</th>\n",
       "      <th>Desarrollador_x</th>\n",
       "      <th>Distribuidor</th>\n",
       "      <th>Fecha_Lanzamiento</th>\n",
       "      <th>Ventas_estimadas</th>\n",
       "      <th>Genre_x</th>\n",
       "      <th>Rank</th>\n",
       "      <th>Platform</th>\n",
       "      <th>Year</th>\n",
       "      <th>Genre_y</th>\n",
       "      <th>...</th>\n",
       "      <th>Length.Main + Extras.Average</th>\n",
       "      <th>Length.Main + Extras.Leisure</th>\n",
       "      <th>Length.Main + Extras.Median</th>\n",
       "      <th>Length.Main + Extras.Polled</th>\n",
       "      <th>Length.Main + Extras.Rushed</th>\n",
       "      <th>Length.Main Story.Average</th>\n",
       "      <th>Length.Main Story.Leisure</th>\n",
       "      <th>Length.Main Story.Median</th>\n",
       "      <th>Length.Main Story.Polled</th>\n",
       "      <th>Length.Main Story.Rushed</th>\n",
       "    </tr>\n",
       "  </thead>\n",
       "  <tbody>\n",
       "    <tr>\n",
       "      <th>0</th>\n",
       "      <td>Minecraft</td>\n",
       "      <td>Mojang Studios</td>\n",
       "      <td>Mojang Studios</td>\n",
       "      <td>18 de noviembre de 2011n 2​</td>\n",
       "      <td>238.0</td>\n",
       "      <td>Sandbox</td>\n",
       "      <td>73.0</td>\n",
       "      <td>X360</td>\n",
       "      <td>2013.0</td>\n",
       "      <td>Misc</td>\n",
       "      <td>...</td>\n",
       "      <td>NaN</td>\n",
       "      <td>NaN</td>\n",
       "      <td>NaN</td>\n",
       "      <td>NaN</td>\n",
       "      <td>NaN</td>\n",
       "      <td>NaN</td>\n",
       "      <td>NaN</td>\n",
       "      <td>NaN</td>\n",
       "      <td>NaN</td>\n",
       "      <td>NaN</td>\n",
       "    </tr>\n",
       "    <tr>\n",
       "      <th>1</th>\n",
       "      <td>Minecraft</td>\n",
       "      <td>Mojang Studios</td>\n",
       "      <td>Mojang Studios</td>\n",
       "      <td>18 de noviembre de 2011n 2​</td>\n",
       "      <td>238.0</td>\n",
       "      <td>Sandbox</td>\n",
       "      <td>169.0</td>\n",
       "      <td>PS3</td>\n",
       "      <td>2014.0</td>\n",
       "      <td>Misc</td>\n",
       "      <td>...</td>\n",
       "      <td>NaN</td>\n",
       "      <td>NaN</td>\n",
       "      <td>NaN</td>\n",
       "      <td>NaN</td>\n",
       "      <td>NaN</td>\n",
       "      <td>NaN</td>\n",
       "      <td>NaN</td>\n",
       "      <td>NaN</td>\n",
       "      <td>NaN</td>\n",
       "      <td>NaN</td>\n",
       "    </tr>\n",
       "    <tr>\n",
       "      <th>2</th>\n",
       "      <td>Minecraft</td>\n",
       "      <td>Mojang Studios</td>\n",
       "      <td>Mojang Studios</td>\n",
       "      <td>18 de noviembre de 2011n 2​</td>\n",
       "      <td>238.0</td>\n",
       "      <td>Sandbox</td>\n",
       "      <td>298.0</td>\n",
       "      <td>PS4</td>\n",
       "      <td>2014.0</td>\n",
       "      <td>Misc</td>\n",
       "      <td>...</td>\n",
       "      <td>NaN</td>\n",
       "      <td>NaN</td>\n",
       "      <td>NaN</td>\n",
       "      <td>NaN</td>\n",
       "      <td>NaN</td>\n",
       "      <td>NaN</td>\n",
       "      <td>NaN</td>\n",
       "      <td>NaN</td>\n",
       "      <td>NaN</td>\n",
       "      <td>NaN</td>\n",
       "    </tr>\n",
       "    <tr>\n",
       "      <th>3</th>\n",
       "      <td>Minecraft</td>\n",
       "      <td>Mojang Studios</td>\n",
       "      <td>Mojang Studios</td>\n",
       "      <td>18 de noviembre de 2011n 2​</td>\n",
       "      <td>238.0</td>\n",
       "      <td>Sandbox</td>\n",
       "      <td>644.0</td>\n",
       "      <td>XOne</td>\n",
       "      <td>2014.0</td>\n",
       "      <td>Misc</td>\n",
       "      <td>...</td>\n",
       "      <td>NaN</td>\n",
       "      <td>NaN</td>\n",
       "      <td>NaN</td>\n",
       "      <td>NaN</td>\n",
       "      <td>NaN</td>\n",
       "      <td>NaN</td>\n",
       "      <td>NaN</td>\n",
       "      <td>NaN</td>\n",
       "      <td>NaN</td>\n",
       "      <td>NaN</td>\n",
       "    </tr>\n",
       "    <tr>\n",
       "      <th>4</th>\n",
       "      <td>Minecraft</td>\n",
       "      <td>Mojang Studios</td>\n",
       "      <td>Mojang Studios</td>\n",
       "      <td>18 de noviembre de 2011n 2​</td>\n",
       "      <td>238.0</td>\n",
       "      <td>Sandbox</td>\n",
       "      <td>715.0</td>\n",
       "      <td>PSV</td>\n",
       "      <td>2014.0</td>\n",
       "      <td>Misc</td>\n",
       "      <td>...</td>\n",
       "      <td>NaN</td>\n",
       "      <td>NaN</td>\n",
       "      <td>NaN</td>\n",
       "      <td>NaN</td>\n",
       "      <td>NaN</td>\n",
       "      <td>NaN</td>\n",
       "      <td>NaN</td>\n",
       "      <td>NaN</td>\n",
       "      <td>NaN</td>\n",
       "      <td>NaN</td>\n",
       "    </tr>\n",
       "  </tbody>\n",
       "</table>\n",
       "<p>5 rows × 48 columns</p>\n",
       "</div>"
      ],
      "text/plain": [
       "       Title Desarrollador_x    Distribuidor            Fecha_Lanzamiento  \\\n",
       "0  Minecraft  Mojang Studios  Mojang Studios  18 de noviembre de 2011n 2​   \n",
       "1  Minecraft  Mojang Studios  Mojang Studios  18 de noviembre de 2011n 2​   \n",
       "2  Minecraft  Mojang Studios  Mojang Studios  18 de noviembre de 2011n 2​   \n",
       "3  Minecraft  Mojang Studios  Mojang Studios  18 de noviembre de 2011n 2​   \n",
       "4  Minecraft  Mojang Studios  Mojang Studios  18 de noviembre de 2011n 2​   \n",
       "\n",
       "   Ventas_estimadas  Genre_x   Rank Platform    Year Genre_y  ...  \\\n",
       "0             238.0  Sandbox   73.0     X360  2013.0    Misc  ...   \n",
       "1             238.0  Sandbox  169.0      PS3  2014.0    Misc  ...   \n",
       "2             238.0  Sandbox  298.0      PS4  2014.0    Misc  ...   \n",
       "3             238.0  Sandbox  644.0     XOne  2014.0    Misc  ...   \n",
       "4             238.0  Sandbox  715.0      PSV  2014.0    Misc  ...   \n",
       "\n",
       "  Length.Main + Extras.Average Length.Main + Extras.Leisure  \\\n",
       "0                          NaN                          NaN   \n",
       "1                          NaN                          NaN   \n",
       "2                          NaN                          NaN   \n",
       "3                          NaN                          NaN   \n",
       "4                          NaN                          NaN   \n",
       "\n",
       "   Length.Main + Extras.Median  Length.Main + Extras.Polled  \\\n",
       "0                          NaN                          NaN   \n",
       "1                          NaN                          NaN   \n",
       "2                          NaN                          NaN   \n",
       "3                          NaN                          NaN   \n",
       "4                          NaN                          NaN   \n",
       "\n",
       "   Length.Main + Extras.Rushed  Length.Main Story.Average  \\\n",
       "0                          NaN                        NaN   \n",
       "1                          NaN                        NaN   \n",
       "2                          NaN                        NaN   \n",
       "3                          NaN                        NaN   \n",
       "4                          NaN                        NaN   \n",
       "\n",
       "   Length.Main Story.Leisure Length.Main Story.Median  \\\n",
       "0                        NaN                      NaN   \n",
       "1                        NaN                      NaN   \n",
       "2                        NaN                      NaN   \n",
       "3                        NaN                      NaN   \n",
       "4                        NaN                      NaN   \n",
       "\n",
       "   Length.Main Story.Polled Length.Main Story.Rushed  \n",
       "0                       NaN                      NaN  \n",
       "1                       NaN                      NaN  \n",
       "2                       NaN                      NaN  \n",
       "3                       NaN                      NaN  \n",
       "4                       NaN                      NaN  \n",
       "\n",
       "[5 rows x 48 columns]"
      ]
     },
     "execution_count": 13,
     "metadata": {},
     "output_type": "execute_result"
    }
   ],
   "source": [
    "# Se fusionas los DataFrames utilizando la columna 'Title' como atributo en comun\n",
    "df_juegos = df_juegos_top.merge(df_vgsales, on='Title', how='outer')  # esto fusiona df_juegos_top y df_vgsales\n",
    "df_juegos = df_juegos.merge(df_video_games, on='Title', how='outer')  # esto añade df_video_games al DataFrame fusionado\n",
    "\n",
    "# Muestra el DataFrame resultante\n",
    "df_juegos.head()"
   ]
  },
  {
   "cell_type": "markdown",
   "id": "017cc109",
   "metadata": {},
   "source": [
    "#### 4.3.2 Eliminar variables irrelevantes\n",
    "\n",
    "El DataFrame df_consolas, se va eliminar el atributo 'Games_y' ya que se repite con el atributo 'Games_x', y se van a renombrar los atributos resultantes:\n",
    "- 'Platform': 'Plataforma',\n",
    "- 'Companies': 'Compañia',\n",
    "- 'Games_x': 'Juegos_Desarrollados',\n",
    "- 'Years': 'Anios',\n",
    "- 'Player Reviews': 'Resenas_Jugador',\n",
    "- 'Critic Reviews': 'Cantidad_Criticas'  \n",
    "\n",
    "Se van a remplazar todos los valores nulos (NaN) en el DataFrame de acuerdo con el tipo de dato como lo son:\n",
    "- 'Plataforma' con 'Desconocido'.\n",
    "- 'Compañia' con 'Desconocido'.\n",
    "- 'Juegos_Desarrollados con 0.\n",
    "- 'Anios' con 0.\n",
    "- 'Resenas_Jugador' con 0.\n",
    "- 'Cantidad_Criticas' con 0."
   ]
  },
  {
   "cell_type": "code",
   "execution_count": 14,
   "id": "7277df7d",
   "metadata": {},
   "outputs": [
    {
     "data": {
      "text/html": [
       "<div>\n",
       "<style scoped>\n",
       "    .dataframe tbody tr th:only-of-type {\n",
       "        vertical-align: middle;\n",
       "    }\n",
       "\n",
       "    .dataframe tbody tr th {\n",
       "        vertical-align: top;\n",
       "    }\n",
       "\n",
       "    .dataframe thead th {\n",
       "        text-align: right;\n",
       "    }\n",
       "</style>\n",
       "<table border=\"1\" class=\"dataframe\">\n",
       "  <thead>\n",
       "    <tr style=\"text-align: right;\">\n",
       "      <th></th>\n",
       "      <th>Plataforma</th>\n",
       "      <th>Compañia</th>\n",
       "      <th>Juegos_Desarrollados</th>\n",
       "      <th>Anios</th>\n",
       "      <th>Resenas_Jugador</th>\n",
       "      <th>Cantidad_Criticas</th>\n",
       "    </tr>\n",
       "  </thead>\n",
       "  <tbody>\n",
       "    <tr>\n",
       "      <th>0</th>\n",
       "      <td>Advanced Programmable Video System</td>\n",
       "      <td>0.0</td>\n",
       "      <td>55.0</td>\n",
       "      <td>0</td>\n",
       "      <td>3.0</td>\n",
       "      <td>1.0</td>\n",
       "    </tr>\n",
       "    <tr>\n",
       "      <th>1</th>\n",
       "      <td>3DO</td>\n",
       "      <td>287.0</td>\n",
       "      <td>254.0</td>\n",
       "      <td>1993 - 1996</td>\n",
       "      <td>16.0</td>\n",
       "      <td>1033.0</td>\n",
       "    </tr>\n",
       "    <tr>\n",
       "      <th>2</th>\n",
       "      <td>Acorn 32-bit</td>\n",
       "      <td>120.0</td>\n",
       "      <td>160.0</td>\n",
       "      <td>1987 - 2008</td>\n",
       "      <td>0.0</td>\n",
       "      <td>41.0</td>\n",
       "    </tr>\n",
       "    <tr>\n",
       "      <th>3</th>\n",
       "      <td>Adventure Vision</td>\n",
       "      <td>4.0</td>\n",
       "      <td>4.0</td>\n",
       "      <td>1982 - 1982</td>\n",
       "      <td>0.0</td>\n",
       "      <td>0.0</td>\n",
       "    </tr>\n",
       "    <tr>\n",
       "      <th>4</th>\n",
       "      <td>AirConsole</td>\n",
       "      <td>9.0</td>\n",
       "      <td>4.0</td>\n",
       "      <td>2016 - 2020</td>\n",
       "      <td>0.0</td>\n",
       "      <td>0.0</td>\n",
       "    </tr>\n",
       "  </tbody>\n",
       "</table>\n",
       "</div>"
      ],
      "text/plain": [
       "                           Plataforma  Compañia  Juegos_Desarrollados  \\\n",
       "0  Advanced Programmable Video System       0.0                  55.0   \n",
       "1                                 3DO     287.0                 254.0   \n",
       "2                        Acorn 32-bit     120.0                 160.0   \n",
       "3                    Adventure Vision       4.0                   4.0   \n",
       "4                          AirConsole       9.0                   4.0   \n",
       "\n",
       "         Anios  Resenas_Jugador  Cantidad_Criticas  \n",
       "0            0              3.0                1.0  \n",
       "1  1993 - 1996             16.0             1033.0  \n",
       "2  1987 - 2008              0.0               41.0  \n",
       "3  1982 - 1982              0.0                0.0  \n",
       "4  2016 - 2020              0.0                0.0  "
      ]
     },
     "execution_count": 14,
     "metadata": {},
     "output_type": "execute_result"
    }
   ],
   "source": [
    "# Elimina las columnas originales 'Games_x' y 'Games_y'\n",
    "df_consolas = df_consolas.drop(['Games_y'], axis=1)\n",
    "\n",
    "# Extrae los números de las cadenas de texto en la columna 'Companies' y convierte estos números a enteros\n",
    "df_consolas['Companies'] = df_consolas['Companies'].str.extract('(\\d+)').astype(float)\n",
    "\n",
    "# Reemplaza todos los valores nulos (NaN) en el DataFrame con 0\n",
    "df_consolas = df_consolas.fillna(0)\n",
    "\n",
    "df_consolas = df_consolas.rename(columns={\n",
    "    'Platform': 'Plataforma',\n",
    "    'Companies': 'Compañia',\n",
    "    'Games_x': 'Juegos_Desarrollados',\n",
    "    'Years': 'Anios',\n",
    "    'Player Reviews': 'Resenas_Jugador',\n",
    "    'Critic Reviews': 'Cantidad_Criticas'   \n",
    "})\n",
    "\n",
    "# Reacomodar los atributos según el orden deseado, puedes utilizar el método reindex()\n",
    "df_consolas = df_consolas.reindex(columns=['Plataforma', 'Compañia', 'Juegos_Desarrollados', 'Anios', 'Resenas_Jugador', 'Cantidad_Criticas'])\n",
    "\n",
    "df_consolas['Plataforma'].fillna('Sin información', inplace=True)\n",
    "df_consolas['Compañia'].fillna('Sin información', inplace=True)\n",
    "df_consolas['Juegos_Desarrollados'].fillna(0, inplace=True)\n",
    "df_consolas['Anios'].fillna(0, inplace=True)\n",
    "df_consolas['Resenas_Jugador'].fillna(0, inplace=True)\n",
    "df_consolas['Cantidad_Criticas'].fillna(0, inplace=True)\n",
    "\n",
    "df_consolas.head()"
   ]
  },
  {
   "cell_type": "markdown",
   "id": "349ea9b8",
   "metadata": {},
   "source": [
    "Del DataFrame df_juegos se realiza un procesado mas amplio de los datos:\n",
    "\n",
    "- Se va reemplazar los valores nulos en la columna 'Genre_x' con los valores correspondientes de la columna 'Genre_y'.\n",
    "\n",
    "- Se  va eliminar la columna 'Genre_y' del DataFrame, esto se hace porque ya se lleno los valores nulos en 'Genre_x' con los valores correspondientes.\n",
    "\n",
    "- Se van a eliminar las columnas: 'Fecha_Lanzamiento', 'Unnamed: 11', 'Fecha_Lanzamineto', 'Desarrollador_y', 'Genre', 'Desarrollador_x' y 'Distribuidor'.\n",
    "\n",
    "- Se van a renombrar las columnas del DataFrame y se proporciona un diccionario en el que se especifica el nuevo nombre de cada columna.\n",
    "\n",
    "- Se reorganizan las columnas para una mejor comprensión.\n",
    "\n",
    "- Se define una lista llamada 'columnas' que contiene los nombres de las columnas que se van a modificar, y se va iterar sobre cada columna en la lista para reemplazar los valores nulos que tengan.\n",
    "\n",
    "- Para los atributos de tipo string se va remplazar los espacios vacios con por 'Desconocido'.\n",
    "  \n",
    "- Se define una lista llamada 'valores_incorrectos' ('2007', '2009', '2010', '2011', '2012', '2013', '2014', '2015'), que contiene los valores que se van a reemplazar en el atributo Genero por 'Desconocido'.\n",
    "\n",
    "- Para los atributos de tipo int o float se va remplazar los espacios vacios con 0.\n",
    "- Para los atributos de tipo bool se van a remplazar los espacios vacios con 'False'."
   ]
  },
  {
   "cell_type": "code",
   "execution_count": 15,
   "id": "c408e061",
   "metadata": {},
   "outputs": [
    {
     "data": {
      "text/html": [
       "<div>\n",
       "<style scoped>\n",
       "    .dataframe tbody tr th:only-of-type {\n",
       "        vertical-align: middle;\n",
       "    }\n",
       "\n",
       "    .dataframe tbody tr th {\n",
       "        vertical-align: top;\n",
       "    }\n",
       "\n",
       "    .dataframe thead th {\n",
       "        text-align: right;\n",
       "    }\n",
       "</style>\n",
       "<table border=\"1\" class=\"dataframe\">\n",
       "  <thead>\n",
       "    <tr style=\"text-align: right;\">\n",
       "      <th></th>\n",
       "      <th>Title</th>\n",
       "      <th>Desarrollador_x</th>\n",
       "      <th>Distribuidor</th>\n",
       "      <th>Fecha_Lanzamiento</th>\n",
       "      <th>Ventas_estimadas</th>\n",
       "      <th>Genre_x</th>\n",
       "      <th>Rank</th>\n",
       "      <th>Platform</th>\n",
       "      <th>Year</th>\n",
       "      <th>Publisher</th>\n",
       "      <th>...</th>\n",
       "      <th>Length.Main + Extras.Average</th>\n",
       "      <th>Length.Main + Extras.Leisure</th>\n",
       "      <th>Length.Main + Extras.Median</th>\n",
       "      <th>Length.Main + Extras.Polled</th>\n",
       "      <th>Length.Main + Extras.Rushed</th>\n",
       "      <th>Length.Main Story.Average</th>\n",
       "      <th>Length.Main Story.Leisure</th>\n",
       "      <th>Length.Main Story.Median</th>\n",
       "      <th>Length.Main Story.Polled</th>\n",
       "      <th>Length.Main Story.Rushed</th>\n",
       "    </tr>\n",
       "  </thead>\n",
       "  <tbody>\n",
       "    <tr>\n",
       "      <th>0</th>\n",
       "      <td>Minecraft</td>\n",
       "      <td>Mojang Studios</td>\n",
       "      <td>Mojang Studios</td>\n",
       "      <td>18 de noviembre de 2011n 2​</td>\n",
       "      <td>238.0</td>\n",
       "      <td>Sandbox</td>\n",
       "      <td>73.0</td>\n",
       "      <td>X360</td>\n",
       "      <td>2013.0</td>\n",
       "      <td>Microsoft Game Studios</td>\n",
       "      <td>...</td>\n",
       "      <td>NaN</td>\n",
       "      <td>NaN</td>\n",
       "      <td>NaN</td>\n",
       "      <td>NaN</td>\n",
       "      <td>NaN</td>\n",
       "      <td>NaN</td>\n",
       "      <td>NaN</td>\n",
       "      <td>NaN</td>\n",
       "      <td>NaN</td>\n",
       "      <td>NaN</td>\n",
       "    </tr>\n",
       "    <tr>\n",
       "      <th>1</th>\n",
       "      <td>Minecraft</td>\n",
       "      <td>Mojang Studios</td>\n",
       "      <td>Mojang Studios</td>\n",
       "      <td>18 de noviembre de 2011n 2​</td>\n",
       "      <td>238.0</td>\n",
       "      <td>Sandbox</td>\n",
       "      <td>169.0</td>\n",
       "      <td>PS3</td>\n",
       "      <td>2014.0</td>\n",
       "      <td>Sony Computer Entertainment</td>\n",
       "      <td>...</td>\n",
       "      <td>NaN</td>\n",
       "      <td>NaN</td>\n",
       "      <td>NaN</td>\n",
       "      <td>NaN</td>\n",
       "      <td>NaN</td>\n",
       "      <td>NaN</td>\n",
       "      <td>NaN</td>\n",
       "      <td>NaN</td>\n",
       "      <td>NaN</td>\n",
       "      <td>NaN</td>\n",
       "    </tr>\n",
       "    <tr>\n",
       "      <th>2</th>\n",
       "      <td>Minecraft</td>\n",
       "      <td>Mojang Studios</td>\n",
       "      <td>Mojang Studios</td>\n",
       "      <td>18 de noviembre de 2011n 2​</td>\n",
       "      <td>238.0</td>\n",
       "      <td>Sandbox</td>\n",
       "      <td>298.0</td>\n",
       "      <td>PS4</td>\n",
       "      <td>2014.0</td>\n",
       "      <td>Sony Computer Entertainment Europe</td>\n",
       "      <td>...</td>\n",
       "      <td>NaN</td>\n",
       "      <td>NaN</td>\n",
       "      <td>NaN</td>\n",
       "      <td>NaN</td>\n",
       "      <td>NaN</td>\n",
       "      <td>NaN</td>\n",
       "      <td>NaN</td>\n",
       "      <td>NaN</td>\n",
       "      <td>NaN</td>\n",
       "      <td>NaN</td>\n",
       "    </tr>\n",
       "    <tr>\n",
       "      <th>3</th>\n",
       "      <td>Minecraft</td>\n",
       "      <td>Mojang Studios</td>\n",
       "      <td>Mojang Studios</td>\n",
       "      <td>18 de noviembre de 2011n 2​</td>\n",
       "      <td>238.0</td>\n",
       "      <td>Sandbox</td>\n",
       "      <td>644.0</td>\n",
       "      <td>XOne</td>\n",
       "      <td>2014.0</td>\n",
       "      <td>Microsoft Game Studios</td>\n",
       "      <td>...</td>\n",
       "      <td>NaN</td>\n",
       "      <td>NaN</td>\n",
       "      <td>NaN</td>\n",
       "      <td>NaN</td>\n",
       "      <td>NaN</td>\n",
       "      <td>NaN</td>\n",
       "      <td>NaN</td>\n",
       "      <td>NaN</td>\n",
       "      <td>NaN</td>\n",
       "      <td>NaN</td>\n",
       "    </tr>\n",
       "    <tr>\n",
       "      <th>4</th>\n",
       "      <td>Minecraft</td>\n",
       "      <td>Mojang Studios</td>\n",
       "      <td>Mojang Studios</td>\n",
       "      <td>18 de noviembre de 2011n 2​</td>\n",
       "      <td>238.0</td>\n",
       "      <td>Sandbox</td>\n",
       "      <td>715.0</td>\n",
       "      <td>PSV</td>\n",
       "      <td>2014.0</td>\n",
       "      <td>Sony Computer Entertainment Europe</td>\n",
       "      <td>...</td>\n",
       "      <td>NaN</td>\n",
       "      <td>NaN</td>\n",
       "      <td>NaN</td>\n",
       "      <td>NaN</td>\n",
       "      <td>NaN</td>\n",
       "      <td>NaN</td>\n",
       "      <td>NaN</td>\n",
       "      <td>NaN</td>\n",
       "      <td>NaN</td>\n",
       "      <td>NaN</td>\n",
       "    </tr>\n",
       "  </tbody>\n",
       "</table>\n",
       "<p>5 rows × 47 columns</p>\n",
       "</div>"
      ],
      "text/plain": [
       "       Title Desarrollador_x    Distribuidor            Fecha_Lanzamiento  \\\n",
       "0  Minecraft  Mojang Studios  Mojang Studios  18 de noviembre de 2011n 2​   \n",
       "1  Minecraft  Mojang Studios  Mojang Studios  18 de noviembre de 2011n 2​   \n",
       "2  Minecraft  Mojang Studios  Mojang Studios  18 de noviembre de 2011n 2​   \n",
       "3  Minecraft  Mojang Studios  Mojang Studios  18 de noviembre de 2011n 2​   \n",
       "4  Minecraft  Mojang Studios  Mojang Studios  18 de noviembre de 2011n 2​   \n",
       "\n",
       "   Ventas_estimadas  Genre_x   Rank Platform    Year  \\\n",
       "0             238.0  Sandbox   73.0     X360  2013.0   \n",
       "1             238.0  Sandbox  169.0      PS3  2014.0   \n",
       "2             238.0  Sandbox  298.0      PS4  2014.0   \n",
       "3             238.0  Sandbox  644.0     XOne  2014.0   \n",
       "4             238.0  Sandbox  715.0      PSV  2014.0   \n",
       "\n",
       "                            Publisher  ... Length.Main + Extras.Average  \\\n",
       "0              Microsoft Game Studios  ...                          NaN   \n",
       "1         Sony Computer Entertainment  ...                          NaN   \n",
       "2  Sony Computer Entertainment Europe  ...                          NaN   \n",
       "3              Microsoft Game Studios  ...                          NaN   \n",
       "4  Sony Computer Entertainment Europe  ...                          NaN   \n",
       "\n",
       "   Length.Main + Extras.Leisure  Length.Main + Extras.Median  \\\n",
       "0                           NaN                          NaN   \n",
       "1                           NaN                          NaN   \n",
       "2                           NaN                          NaN   \n",
       "3                           NaN                          NaN   \n",
       "4                           NaN                          NaN   \n",
       "\n",
       "   Length.Main + Extras.Polled  Length.Main + Extras.Rushed  \\\n",
       "0                          NaN                          NaN   \n",
       "1                          NaN                          NaN   \n",
       "2                          NaN                          NaN   \n",
       "3                          NaN                          NaN   \n",
       "4                          NaN                          NaN   \n",
       "\n",
       "   Length.Main Story.Average Length.Main Story.Leisure  \\\n",
       "0                        NaN                       NaN   \n",
       "1                        NaN                       NaN   \n",
       "2                        NaN                       NaN   \n",
       "3                        NaN                       NaN   \n",
       "4                        NaN                       NaN   \n",
       "\n",
       "   Length.Main Story.Median Length.Main Story.Polled Length.Main Story.Rushed  \n",
       "0                       NaN                      NaN                      NaN  \n",
       "1                       NaN                      NaN                      NaN  \n",
       "2                       NaN                      NaN                      NaN  \n",
       "3                       NaN                      NaN                      NaN  \n",
       "4                       NaN                      NaN                      NaN  \n",
       "\n",
       "[5 rows x 47 columns]"
      ]
     },
     "execution_count": 15,
     "metadata": {},
     "output_type": "execute_result"
    }
   ],
   "source": [
    "# los datos en Genre_x y reemplazar los valores NaN con los valores correspondientes de Genre_y\n",
    "df_juegos['Genre_x'] = df_juegos['Genre_x'].fillna(df_juegos['Genre_y'])\n",
    "df_juegos = df_juegos.drop(columns='Genre_y')\n",
    "df_juegos.head()"
   ]
  },
  {
   "cell_type": "markdown",
   "id": "d4a76c33",
   "metadata": {},
   "source": [
    "Se van a eliminar los atributos que no se utilizan en el analisis"
   ]
  },
  {
   "cell_type": "code",
   "execution_count": 16,
   "id": "27b4124b",
   "metadata": {},
   "outputs": [],
   "source": [
    "# Se van a eliminar los atributos que no se utilizan en el analisis\n",
    "df_juegos = df_juegos.drop(['Fecha_Lanzamiento', 'Unnamed: 11', 'Fecha_Lanzamineto', 'Desarrollador_y','Genre', 'Desarrollador_x', 'Distribuidor' ], axis=1)"
   ]
  },
  {
   "cell_type": "markdown",
   "id": "16ce3795",
   "metadata": {},
   "source": [
    "Se renombran los atributos resultantes"
   ]
  },
  {
   "cell_type": "code",
   "execution_count": 17,
   "id": "4d1d6530",
   "metadata": {},
   "outputs": [],
   "source": [
    "# Se renombran los atributos resultantes\n",
    "df_juegos = df_juegos.rename(columns={\n",
    "    'Title': 'Titulo',\n",
    "    'Genre_x': 'Genero',\n",
    "    'Rank': 'Ranking',\n",
    "    'Platform': 'Plataforma',\n",
    "    'Year': 'Fecha_Lanzamiento',\n",
    "    'Publisher': 'Compañia_Desarrollo',\n",
    "    'NA_Sales': 'Ventas_NA',\n",
    "    'EU_Sales': 'Ventas_EU',\n",
    "    'JP_Sales': 'Ventas_JP',\n",
    "    'Other_Sales': 'Ventas_Otros',\n",
    "    'Global_Sales': 'Ventas_Globales'\n",
    "})"
   ]
  },
  {
   "cell_type": "markdown",
   "id": "62f81850",
   "metadata": {},
   "source": [
    "Reacomodo de atributos para una mejor comprension"
   ]
  },
  {
   "cell_type": "code",
   "execution_count": 18,
   "id": "ebdf963b",
   "metadata": {},
   "outputs": [],
   "source": [
    "# Reacomodo de atributos para una mejor comprension\n",
    "df_juegos = df_juegos[[\n",
    "    'Titulo', \n",
    "    'Compañia_Desarrollo', \n",
    "    'Fecha_Lanzamiento', \n",
    "    'Genero',    \n",
    "    'Plataforma',\n",
    "    'Multiplataforma',\n",
    "    'Portátil', \n",
    "    'Online', \n",
    "    'Max_Jugadores',\n",
    "    'Rating',\n",
    "    'Ranking',\n",
    "    'Puntuacion_Reseña',\n",
    "    'Secuela',\n",
    "    'Licenciado',\n",
    "    'Ventas_NA',\n",
    "    'Ventas_EU',\n",
    "    'Ventas_JP',\n",
    "    'Ventas_Otros',\n",
    "    'Ventas_Globales',\n",
    "    'Ventas_estimadas',\n",
    "    'Length.All PlayStyles.Average',\n",
    "    'Length.All PlayStyles.Leisure',\n",
    "    'Length.All PlayStyles.Median',\n",
    "    'Length.All PlayStyles.Polled',\n",
    "    'Length.All PlayStyles.Rushed',\n",
    "    'Length.Completionists.Average',\n",
    "    'Length.Completionists.Leisure',\n",
    "    'Length.Completionists.Median',\n",
    "    'Length.Completionists.Polled',\n",
    "    'Length.Completionists.Rushed',\n",
    "    'Length.Main + Extras.Average',\n",
    "    'Length.Main + Extras.Leisure',\n",
    "    'Length.Main + Extras.Median',\n",
    "    'Length.Main + Extras.Polled',\n",
    "    'Length.Main + Extras.Rushed',\n",
    "    'Length.Main Story.Average',\n",
    "    'Length.Main Story.Leisure',\n",
    "    'Length.Main Story.Median',\n",
    "    'Length.Main Story.Polled',\n",
    "    'Length.Main Story.Rushed'\n",
    "]]"
   ]
  },
  {
   "cell_type": "markdown",
   "id": "7e4f7d2e",
   "metadata": {},
   "source": [
    "Se crea el atributo columnas con los atributos de tipo string y se van a remplazar los espacios vacios con 'Desconocido'"
   ]
  },
  {
   "cell_type": "code",
   "execution_count": 19,
   "id": "4fbe2482",
   "metadata": {},
   "outputs": [],
   "source": [
    "# Se crea el atributo columnas con los atributos de tipo string\n",
    "# Se van a remplazar los espacios vacios con 'Desconocido'\n",
    "columnas = ['Titulo','Compañia_Desarrollo','Genero','Plataforma','Rating']\n",
    "\n",
    "for columna in columnas:\n",
    "    df_juegos[columna] = df_juegos[columna].fillna('Desconocido')\n",
    "    df_juegos[columna] = df_juegos[columna].astype(str)"
   ]
  },
  {
   "cell_type": "markdown",
   "id": "764ff517",
   "metadata": {},
   "source": [
    "La columna 'Titulo' de df_juegos sólo contendrá el texto antes de los dos puntos para cada juego."
   ]
  },
  {
   "cell_type": "code",
   "execution_count": 20,
   "id": "c5ba7ab5",
   "metadata": {},
   "outputs": [],
   "source": [
    "# este código, la columna 'Titulo' de df_juegos sólo contendrá el texto antes de los dos puntos para cada juego.\n",
    "df_juegos['Titulo'] = df_juegos['Titulo'].apply(lambda x: x.split(':')[0])"
   ]
  },
  {
   "cell_type": "markdown",
   "id": "3171fb0e",
   "metadata": {},
   "source": [
    "Reemplazar espacios en blanco con guiones bajos en la columna 'Titulo'"
   ]
  },
  {
   "cell_type": "code",
   "execution_count": 21,
   "id": "4678b5a5",
   "metadata": {},
   "outputs": [],
   "source": [
    "# Reemplazar espacios en blanco con guiones bajos en la columna 'Titulo'\n",
    "df_juegos['Titulo'] = df_juegos['Titulo'].str.replace(' ', '_')"
   ]
  },
  {
   "cell_type": "markdown",
   "id": "bb5c4ea3",
   "metadata": {},
   "source": [
    "Definir los valores a reemplazar en una lista por los valores en la columna 'Genero'"
   ]
  },
  {
   "cell_type": "code",
   "execution_count": 22,
   "id": "09c3d39c",
   "metadata": {},
   "outputs": [],
   "source": [
    "# Definir los valores a reemplazar en una lista\n",
    "valores_incorrectos = ['2007', '2009', '2010', '2011', '2012', '2013', '2014', '2015']\n",
    "\n",
    "# Reemplazar los valores en la columna 'Genero'\n",
    "df_juegos['Genero'] = df_juegos['Genero'].replace(valores_incorrectos, 'Desconocido')"
   ]
  },
  {
   "cell_type": "markdown",
   "id": "bd12c7e7",
   "metadata": {},
   "source": [
    " Se crea el atributo columnas con los atributos de tipo int o float y se van a remplazar los espacios vacios con '0'."
   ]
  },
  {
   "cell_type": "code",
   "execution_count": 23,
   "id": "aa5d88d4",
   "metadata": {},
   "outputs": [],
   "source": [
    "# Se crea el atributo columnas con los atributos de tipo int o float\n",
    "# Se van a remplazar los espacios vacios con '0'\n",
    "columnas = ['Fecha_Lanzamiento','Max_Jugadores','Ranking','Puntuacion_Reseña','Ventas_NA','Ventas_EU',\n",
    "          'Ventas_JP','Ventas_Otros','Ventas_Globales','Ventas_estimadas']\n",
    "\n",
    "for columna in columnas:\n",
    "    df_juegos[columna] = df_juegos[columna].fillna(0)"
   ]
  },
  {
   "cell_type": "markdown",
   "id": "080d1590",
   "metadata": {},
   "source": [
    "Se crea el atributo columnas con los atributos de tipo bool y se van a remplazar los espacios vacios con 'False'."
   ]
  },
  {
   "cell_type": "code",
   "execution_count": 24,
   "id": "6b721d93",
   "metadata": {},
   "outputs": [],
   "source": [
    "# Se crea el atributo columnas con los atributos de tipo bool\n",
    "# Se van a remplazar los espacios vacios con 'False'\n",
    "columnas = ['Multiplataforma', 'Portátil', 'Online', 'Secuela', 'Licenciado']\n",
    "\n",
    "for columna in columnas:\n",
    "    df_juegos[columna] = df_juegos[columna].fillna(False)"
   ]
  },
  {
   "cell_type": "markdown",
   "id": "8d3218cf",
   "metadata": {},
   "source": [
    "Se crea el atributo columnas con los atributos de tipo float y se van a remplazar los espacios vacios con 'Desconocido'."
   ]
  },
  {
   "cell_type": "code",
   "execution_count": 25,
   "id": "f56f3028",
   "metadata": {},
   "outputs": [],
   "source": [
    "# Se crea el atributo columnas con los atributos de tipo float\n",
    "# Se van a remplazar los espacios vacios con 'Desconocido'\n",
    "columnas = ['Length.All PlayStyles.Average','Length.All PlayStyles.Leisure','Length.All PlayStyles.Median',\n",
    "            'Length.All PlayStyles.Polled','Length.All PlayStyles.Rushed','Length.Completionists.Average',\n",
    "            'Length.Completionists.Leisure','Length.Completionists.Median','Length.Completionists.Polled',\n",
    "            'Length.Completionists.Rushed','Length.Main + Extras.Average','Length.Main + Extras.Leisure',\n",
    "            'Length.Main + Extras.Median','Length.Main + Extras.Polled','Length.Main + Extras.Rushed',\n",
    "            'Length.Main Story.Average','Length.Main Story.Leisure','Length.Main Story.Median',\n",
    "            'Length.Main Story.Polled','Length.Main Story.Rushed']\n",
    "\n",
    "for columna in columnas:\n",
    "    df_juegos[columna] = df_juegos[columna].fillna(0)"
   ]
  },
  {
   "cell_type": "markdown",
   "id": "36056a5e",
   "metadata": {},
   "source": [
    "Se eliminan las columnas no necesarias"
   ]
  },
  {
   "cell_type": "code",
   "execution_count": 26,
   "id": "80fa5870",
   "metadata": {},
   "outputs": [
    {
     "data": {
      "text/html": [
       "<div>\n",
       "<style scoped>\n",
       "    .dataframe tbody tr th:only-of-type {\n",
       "        vertical-align: middle;\n",
       "    }\n",
       "\n",
       "    .dataframe tbody tr th {\n",
       "        vertical-align: top;\n",
       "    }\n",
       "\n",
       "    .dataframe thead th {\n",
       "        text-align: right;\n",
       "    }\n",
       "</style>\n",
       "<table border=\"1\" class=\"dataframe\">\n",
       "  <thead>\n",
       "    <tr style=\"text-align: right;\">\n",
       "      <th></th>\n",
       "      <th>Titulo</th>\n",
       "      <th>Compañia_Desarrollo</th>\n",
       "      <th>Fecha_Lanzamiento</th>\n",
       "      <th>Genero</th>\n",
       "      <th>Plataforma</th>\n",
       "      <th>Multiplataforma</th>\n",
       "      <th>Portátil</th>\n",
       "      <th>Online</th>\n",
       "      <th>Max_Jugadores</th>\n",
       "      <th>Rating</th>\n",
       "      <th>Ranking</th>\n",
       "      <th>Puntuacion_Reseña</th>\n",
       "      <th>Secuela</th>\n",
       "      <th>Licenciado</th>\n",
       "      <th>Ventas_NA</th>\n",
       "      <th>Ventas_EU</th>\n",
       "      <th>Ventas_JP</th>\n",
       "      <th>Ventas_Otros</th>\n",
       "      <th>Ventas_Globales</th>\n",
       "      <th>Ventas_estimadas</th>\n",
       "    </tr>\n",
       "  </thead>\n",
       "  <tbody>\n",
       "    <tr>\n",
       "      <th>0</th>\n",
       "      <td>Minecraft</td>\n",
       "      <td>Microsoft Game Studios</td>\n",
       "      <td>2013.0</td>\n",
       "      <td>Sandbox</td>\n",
       "      <td>X360</td>\n",
       "      <td>False</td>\n",
       "      <td>False</td>\n",
       "      <td>False</td>\n",
       "      <td>0.0</td>\n",
       "      <td>Desconocido</td>\n",
       "      <td>73.0</td>\n",
       "      <td>0.0</td>\n",
       "      <td>False</td>\n",
       "      <td>False</td>\n",
       "      <td>5.58</td>\n",
       "      <td>2.83</td>\n",
       "      <td>0.02</td>\n",
       "      <td>0.77</td>\n",
       "      <td>9.20</td>\n",
       "      <td>238.0</td>\n",
       "    </tr>\n",
       "    <tr>\n",
       "      <th>1</th>\n",
       "      <td>Minecraft</td>\n",
       "      <td>Sony Computer Entertainment</td>\n",
       "      <td>2014.0</td>\n",
       "      <td>Sandbox</td>\n",
       "      <td>PS3</td>\n",
       "      <td>False</td>\n",
       "      <td>False</td>\n",
       "      <td>False</td>\n",
       "      <td>0.0</td>\n",
       "      <td>Desconocido</td>\n",
       "      <td>169.0</td>\n",
       "      <td>0.0</td>\n",
       "      <td>False</td>\n",
       "      <td>False</td>\n",
       "      <td>1.97</td>\n",
       "      <td>2.51</td>\n",
       "      <td>0.00</td>\n",
       "      <td>0.94</td>\n",
       "      <td>5.42</td>\n",
       "      <td>238.0</td>\n",
       "    </tr>\n",
       "    <tr>\n",
       "      <th>2</th>\n",
       "      <td>Minecraft</td>\n",
       "      <td>Sony Computer Entertainment Europe</td>\n",
       "      <td>2014.0</td>\n",
       "      <td>Sandbox</td>\n",
       "      <td>PS4</td>\n",
       "      <td>False</td>\n",
       "      <td>False</td>\n",
       "      <td>False</td>\n",
       "      <td>0.0</td>\n",
       "      <td>Desconocido</td>\n",
       "      <td>298.0</td>\n",
       "      <td>0.0</td>\n",
       "      <td>False</td>\n",
       "      <td>False</td>\n",
       "      <td>1.38</td>\n",
       "      <td>1.87</td>\n",
       "      <td>0.12</td>\n",
       "      <td>0.65</td>\n",
       "      <td>4.02</td>\n",
       "      <td>238.0</td>\n",
       "    </tr>\n",
       "    <tr>\n",
       "      <th>3</th>\n",
       "      <td>Minecraft</td>\n",
       "      <td>Microsoft Game Studios</td>\n",
       "      <td>2014.0</td>\n",
       "      <td>Sandbox</td>\n",
       "      <td>XOne</td>\n",
       "      <td>False</td>\n",
       "      <td>False</td>\n",
       "      <td>False</td>\n",
       "      <td>0.0</td>\n",
       "      <td>Desconocido</td>\n",
       "      <td>644.0</td>\n",
       "      <td>0.0</td>\n",
       "      <td>False</td>\n",
       "      <td>False</td>\n",
       "      <td>1.43</td>\n",
       "      <td>0.76</td>\n",
       "      <td>0.00</td>\n",
       "      <td>0.22</td>\n",
       "      <td>2.41</td>\n",
       "      <td>238.0</td>\n",
       "    </tr>\n",
       "    <tr>\n",
       "      <th>4</th>\n",
       "      <td>Minecraft</td>\n",
       "      <td>Sony Computer Entertainment Europe</td>\n",
       "      <td>2014.0</td>\n",
       "      <td>Sandbox</td>\n",
       "      <td>PSV</td>\n",
       "      <td>False</td>\n",
       "      <td>False</td>\n",
       "      <td>False</td>\n",
       "      <td>0.0</td>\n",
       "      <td>Desconocido</td>\n",
       "      <td>715.0</td>\n",
       "      <td>0.0</td>\n",
       "      <td>False</td>\n",
       "      <td>False</td>\n",
       "      <td>0.28</td>\n",
       "      <td>0.79</td>\n",
       "      <td>0.87</td>\n",
       "      <td>0.32</td>\n",
       "      <td>2.25</td>\n",
       "      <td>238.0</td>\n",
       "    </tr>\n",
       "  </tbody>\n",
       "</table>\n",
       "</div>"
      ],
      "text/plain": [
       "      Titulo                 Compañia_Desarrollo  Fecha_Lanzamiento   Genero  \\\n",
       "0  Minecraft              Microsoft Game Studios             2013.0  Sandbox   \n",
       "1  Minecraft         Sony Computer Entertainment             2014.0  Sandbox   \n",
       "2  Minecraft  Sony Computer Entertainment Europe             2014.0  Sandbox   \n",
       "3  Minecraft              Microsoft Game Studios             2014.0  Sandbox   \n",
       "4  Minecraft  Sony Computer Entertainment Europe             2014.0  Sandbox   \n",
       "\n",
       "  Plataforma  Multiplataforma  Portátil  Online  Max_Jugadores       Rating  \\\n",
       "0       X360            False     False   False            0.0  Desconocido   \n",
       "1        PS3            False     False   False            0.0  Desconocido   \n",
       "2        PS4            False     False   False            0.0  Desconocido   \n",
       "3       XOne            False     False   False            0.0  Desconocido   \n",
       "4        PSV            False     False   False            0.0  Desconocido   \n",
       "\n",
       "   Ranking  Puntuacion_Reseña  Secuela  Licenciado Ventas_NA  Ventas_EU  \\\n",
       "0     73.0                0.0    False       False      5.58       2.83   \n",
       "1    169.0                0.0    False       False      1.97       2.51   \n",
       "2    298.0                0.0    False       False      1.38       1.87   \n",
       "3    644.0                0.0    False       False      1.43       0.76   \n",
       "4    715.0                0.0    False       False      0.28       0.79   \n",
       "\n",
       "   Ventas_JP  Ventas_Otros  Ventas_Globales  Ventas_estimadas  \n",
       "0       0.02          0.77             9.20             238.0  \n",
       "1       0.00          0.94             5.42             238.0  \n",
       "2       0.12          0.65             4.02             238.0  \n",
       "3       0.00          0.22             2.41             238.0  \n",
       "4       0.87          0.32             2.25             238.0  "
      ]
     },
     "execution_count": 26,
     "metadata": {},
     "output_type": "execute_result"
    }
   ],
   "source": [
    "# Lista de columnas a eliminar\n",
    "columnas_a_eliminar = ['Length.All PlayStyles.Average','Length.All PlayStyles.Leisure','Length.All PlayStyles.Median','Length.All PlayStyles.Polled','Length.All PlayStyles.Rushed','Length.Completionists.Average','Length.Completionists.Leisure','Length.Completionists.Median','Length.Completionists.Polled','Length.Completionists.Rushed','Length.Main + Extras.Average','Length.Main + Extras.Leisure','Length.Main + Extras.Median','Length.Main + Extras.Polled','Length.Main + Extras.Rushed','Length.Main Story.Average','Length.Main Story.Leisure','Length.Main Story.Median','Length.Main Story.Polled','Length.Main Story.Rushed']\n",
    "\n",
    "# Eliminar las columnas del DataFrame\n",
    "df_juegos = df_juegos.drop(columnas_a_eliminar, axis=1)\n",
    "\n",
    "df_juegos.head()"
   ]
  },
  {
   "cell_type": "markdown",
   "id": "3cd9a6c8",
   "metadata": {},
   "source": [
    "### 4.4 Definición de la(s) Variable(s) Objetivo(s).\n",
    "\n",
    "**El objetivo es clasificar el 'Genero de juego' y la 'Plataforma'**, ya sea de forma separada o conjunta, para obtener la información de que tipo de Genero y Plataforma se puede desarrollar el Videojuego; por lo tanto, la correlación, clasificación y predicción del Género y Plataforma de Juego estará dada **por el análisis de Videojuegos Exitosos**.\n",
    "\n",
    "La **variable objetivo** será determinar qué tipo de género de juego y plataforma serán útiles para la creación de un nuevo videojuego exitoso. En este contexto, **el éxito de un Videojuego** esta dado **por la cantidad de Copias Vendidas del Videojuego que está definido en el atributo 'Ventas Globales'**, por lo que las **Variables** a utilizar para alcanzar el **Objetivo** del proyecto pueden incluir:\n",
    "\n",
    "- **Género del juego:** Esta variable representa la categoría o tipo de juego al que pertenece, como acción, aventura, estrategia, deportes, etc.\n",
    "\n",
    "- **Plataforma:** Esta variable indica el sistema o dispositivo en el que el juego será lanzado y jugado, como PlayStation, Xbox, PC, Nintendo Switch, etc.\n",
    "\n",
    "- **Ventas Globales:** Esta variable representa las ventas totales del juego en todo el mundo. Se va a **utilizar** como una **medida de éxito** para determinar **si un juego es exitoso o no**.\n",
    "\n",
    "- Otras variables: También se pueden considerar otras variables relevantes para el análisis, como el rating del juego, las puntuaciones de reseñas, la compañía de desarrollo, la fecha de lanzamiento, etc., dependiendo de la disponibilidad de datos y la relevancia para el objetivo específico."
   ]
  },
  {
   "cell_type": "markdown",
   "id": "8d14abaf",
   "metadata": {},
   "source": [
    "### 4.5 Almacenamiento de data frame en base de datos relacional\n",
    "El proceso para el almacenamiento de datos en una base de datos relacional MySQL teniendo un data frame llamado df_juegos es crear una base de datos que defina las tablas, columnas, tipos de datos de las variables que se obtuvieron del proceso de Data Clean.\n",
    "\n",
    "- Se genera una base de datos desde la terminal de comandos:\n",
    "\n",
    "    **CREATE DATABASE games;**\n"
   ]
  },
  {
   "cell_type": "markdown",
   "id": "20d31792",
   "metadata": {},
   "source": [
    "- Desde jupyter notebook se establece el código para convertir el data frame df_juegos en una tabla en la base de datos Games. Esto se hacer a través de una conexión con el servidor de base de datos y utilizando el módulo  sqlalchemy y pymysql."
   ]
  },
  {
   "cell_type": "code",
   "execution_count": 29,
   "id": "3a05ac2d",
   "metadata": {},
   "outputs": [
    {
     "name": "stdout",
     "output_type": "stream",
     "text": [
      "Requirement already satisfied: pymysql in c:\\users\\jc\\appdata\\roaming\\python\\python311\\site-packages (1.1.0)\n"
     ]
    },
    {
     "name": "stderr",
     "output_type": "stream",
     "text": [
      "DEPRECATION: Loading egg at c:\\programdata\\anaconda3\\lib\\site-packages\\vboxapi-1.0-py3.11.egg is deprecated. pip 23.3 will enforce this behaviour change. A possible replacement is to use pip for package installation..\n"
     ]
    }
   ],
   "source": [
    "!pip install pymysql"
   ]
  },
  {
   "cell_type": "markdown",
   "id": "3c68eb67",
   "metadata": {},
   "source": [
    "- SQLAlchemy es una biblioteca que facilita la interacción con bases de datos relacionales y la función create_engine se utiliza para crear un objeto de motor SQLAlchemy, que permite comunicarse con la base de datos Games. "
   ]
  },
  {
   "cell_type": "code",
   "execution_count": 30,
   "id": "1c16dce3",
   "metadata": {},
   "outputs": [],
   "source": [
    "from sqlalchemy import create_engine"
   ]
  },
  {
   "cell_type": "markdown",
   "id": "a5da01c3",
   "metadata": {},
   "source": [
    "- Desde la aplicación de jupyter notebook se establece una conexión a la base de datos MySQL. Se proporciona los datos de acceso (nombre de usuario y contraseña) y la ubicación del servidor MySQL (host y puerto).\n",
    "\n",
    "- Se declara una tabla llamada videojuegos donde se almacenará las variables de la data frame df_juegos."
   ]
  },
  {
   "cell_type": "code",
   "execution_count": 32,
   "id": "0d76325d",
   "metadata": {},
   "outputs": [
    {
     "name": "stdout",
     "output_type": "stream",
     "text": [
      "DataFrame df_juegos convertido a tabla 'videojuegos' en MySQL exitosamente.\n"
     ]
    }
   ],
   "source": [
    "# Configurar la conexión a la base de datos MySQL\n",
    "usuario = 'root'\n",
    "contraseña = 'mysql'\n",
    "host = 'localhost'\n",
    "puerto = '3306'\n",
    "base_de_datos = 'Games'\n",
    "motor = create_engine(f'mysql+pymysql://{usuario}:{contraseña}@{host}:{puerto}/{base_de_datos}')\n",
    "\n",
    "# Nombre de la tabla\n",
    "nombre_de_tabla = 'videojuegos'  # Cambia el nombre de la tabla según sea necesario\n",
    "\n",
    "# Crear una tabla en MySQL a partir del DataFrame df_juegos\n",
    "df_juegos.to_sql(nombre_de_tabla, con=motor, index=False, if_exists='replace')\n",
    "\n",
    "print(f\"DataFrame df_juegos convertido a tabla '{nombre_de_tabla}' en MySQL exitosamente.\")"
   ]
  }
 ],
 "metadata": {
  "kernelspec": {
   "display_name": "Python 3 (ipykernel)",
   "language": "python",
   "name": "python3"
  },
  "language_info": {
   "codemirror_mode": {
    "name": "ipython",
    "version": 3
   },
   "file_extension": ".py",
   "mimetype": "text/x-python",
   "name": "python",
   "nbconvert_exporter": "python",
   "pygments_lexer": "ipython3",
   "version": "3.11.5"
  }
 },
 "nbformat": 4,
 "nbformat_minor": 5
}
